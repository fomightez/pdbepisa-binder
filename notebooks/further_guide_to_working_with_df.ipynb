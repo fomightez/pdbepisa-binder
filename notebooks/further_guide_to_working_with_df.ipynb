{
 "cells": [
  {
   "cell_type": "markdown",
   "id": "78285f1b-7451-4c8b-b5d7-7def89a1c592",
   "metadata": {},
   "source": [
    "# Further guide to using the dataframes produced by `pisa_interface_list_to_df.py`\n",
    "\n",
    "Because the multiindex nature of the dataframes produced by `pisa_interface_list_to_df.py` are a bit more complex than a typical, I though a little more assistance in dealing with them may prove useful. This notebook is an effort to further touch on the special handling steps that maybe  needed."
   ]
  },
  {
   "cell_type": "markdown",
   "id": "109b6007-089a-4f54-9472-05803c30d40e",
   "metadata": {},
   "source": [
    "------"
   ]
  },
  {
   "cell_type": "markdown",
   "id": "7d329d7d-dea0-4906-a1ee-51285da06b87",
   "metadata": {
    "tags": []
   },
   "source": [
    "### Preparation\n",
    "\n",
    "This notebook is designed so that it is able to be run separate from others in the series, and so some preparation is required at the outset.   This preparation doesn't cause any issues if it was already run, and so just go ahead and rerun it if you need to start the notebook over.\n",
    "\n",
    "All these preparation steps were covered in the previous notebook in the first notebook in series, and so go work though that notebook if anything is not familiar."
   ]
  },
  {
   "cell_type": "code",
   "execution_count": 1,
   "id": "0c44b204-1168-4275-b0ff-69f84978bab8",
   "metadata": {},
   "outputs": [],
   "source": [
    "# Get script file if not yet retrieved / check if file exists\n",
    "import os\n",
    "file_needed = \"pisa_interface_list_to_df.py\"\n",
    "if not os.path.isfile(file_needed):\n",
    "    !curl -OL https://raw.githubusercontent.com/fomightez/structurework/master/pdbepisa-utilities/{file_needed}"
   ]
  },
  {
   "cell_type": "code",
   "execution_count": 2,
   "id": "bf0e786f-9993-41ba-8e01-1ba3136ccf46",
   "metadata": {},
   "outputs": [],
   "source": [
    "import pandas as pd"
   ]
  },
  {
   "cell_type": "code",
   "execution_count": 3,
   "id": "0238fa3a-bde4-4086-a033-478ac66f44b4",
   "metadata": {},
   "outputs": [],
   "source": [
    "# import the main function of the script into the notebooks's namespace \n",
    "# so that it can be used here\n",
    "from pisa_interface_list_to_df import pisa_interface_list_to_df"
   ]
  },
  {
   "cell_type": "markdown",
   "id": "d2cf9c15-d831-4b01-a360-9d29089bd778",
   "metadata": {},
   "source": [
    "This last step will run the script and produce a dataframe of the interface data and read it into this notebook's namespace."
   ]
  },
  {
   "cell_type": "code",
   "execution_count": 4,
   "id": "c74370a5-4970-499c-8717-fea0416fe622",
   "metadata": {},
   "outputs": [
    {
     "data": {
      "text/html": [
       "<pre style=\"white-space:pre;overflow-x:auto;line-height:normal;font-family:Menlo,'DejaVu Sans Mono',consolas,'Courier New',monospace\"><span style=\"color: #800000; text-decoration-color: #800000; background-color: #c0c0c0; font-weight: bold\">──────────────────── </span><span style=\"color: #800000; text-decoration-color: #800000; font-weight: bold\">Input Preparation</span><span style=\"color: #800000; text-decoration-color: #800000; background-color: #c0c0c0; font-weight: bold\"> ─────────────────────</span>\n",
       "</pre>\n"
      ],
      "text/plain": [
       "\u001b[1;31;47m──────────────────── \u001b[0m\u001b[1;31mInput Preparation\u001b[0m\u001b[1;31;47m ─────────────────────\u001b[0m\n"
      ]
     },
     "metadata": {},
     "output_type": "display_data"
    },
    {
     "data": {
      "application/vnd.jupyter.widget-view+json": {
       "model_id": "",
       "version_major": 2,
       "version_minor": 0
      },
      "text/plain": [
       "Output()"
      ]
     },
     "metadata": {},
     "output_type": "display_data"
    },
    {
     "data": {
      "text/html": [
       "<pre style=\"white-space:pre;overflow-x:auto;line-height:normal;font-family:Menlo,'DejaVu Sans Mono',consolas,'Courier New',monospace\"></pre>\n"
      ],
      "text/plain": []
     },
     "metadata": {},
     "output_type": "display_data"
    },
    {
     "data": {
      "text/html": [
       "<pre style=\"white-space:pre;overflow-x:auto;line-height:normal;font-family:Menlo,'DejaVu Sans Mono',consolas,'Courier New',monospace\">\n",
       "</pre>\n"
      ],
      "text/plain": [
       "\n"
      ]
     },
     "metadata": {},
     "output_type": "display_data"
    },
    {
     "data": {
      "text/html": [
       "<pre style=\"white-space:pre;overflow-x:auto;line-height:normal;font-family:Menlo,'DejaVu Sans Mono',consolas,'Courier New',monospace\"><span style=\"color: #800000; text-decoration-color: #800000; background-color: #c0c0c0; font-weight: bold\">Extracting interface list from the page..</span>\n",
       "</pre>\n"
      ],
      "text/plain": [
       "\u001b[1;31;47mExtracting interface list from the page..\u001b[0m\n"
      ]
     },
     "metadata": {},
     "output_type": "display_data"
    },
    {
     "data": {
      "text/html": [
       "<pre style=\"white-space:pre;overflow-x:auto;line-height:normal;font-family:Menlo,'DejaVu Sans Mono',consolas,'Courier New',monospace\"><span style=\"color: #800000; text-decoration-color: #800000; background-color: #c0c0c0; font-weight: bold\">Extracted interface list data saved as the file </span>\n",
       "<span style=\"color: #008000; text-decoration-color: #008000; background-color: #c0c0c0\">'6ahu_interface_list.txt'</span>\n",
       "</pre>\n"
      ],
      "text/plain": [
       "\u001b[1;31;47mExtracted interface list data saved as the file \u001b[0m\n",
       "\u001b[32;47m'6ahu_interface_list.txt'\u001b[0m\n"
      ]
     },
     "metadata": {},
     "output_type": "display_data"
    },
    {
     "data": {
      "text/html": [
       "<pre style=\"white-space:pre;overflow-x:auto;line-height:normal;font-family:Menlo,'DejaVu Sans Mono',consolas,'Courier New',monospace\"><span style=\"color: #800000; text-decoration-color: #800000; background-color: #c0c0c0; font-weight: bold\">───────────────── </span><span style=\"color: #800000; text-decoration-color: #800000; font-weight: bold\">End of Input Preparation</span><span style=\"color: #800000; text-decoration-color: #800000; background-color: #c0c0c0; font-weight: bold\"> ─────────────────</span>\n",
       "</pre>\n"
      ],
      "text/plain": [
       "\u001b[1;31;47m───────────────── \u001b[0m\u001b[1;31mEnd of Input Preparation\u001b[0m\u001b[1;31;47m ─────────────────\u001b[0m\n"
      ]
     },
     "metadata": {},
     "output_type": "display_data"
    },
    {
     "data": {
      "text/html": [
       "<pre style=\"white-space:pre;overflow-x:auto;line-height:normal;font-family:Menlo,'DejaVu Sans Mono',consolas,'Courier New',monospace\"><span style=\"color: #800000; text-decoration-color: #800000; background-color: #c0c0c0; font-weight: bold\">─────────────────── </span><span style=\"color: #800000; text-decoration-color: #800000; font-weight: bold\">Dataframe Generation</span><span style=\"color: #800000; text-decoration-color: #800000; background-color: #c0c0c0; font-weight: bold\"> ───────────────────</span>\n",
       "</pre>\n"
      ],
      "text/plain": [
       "\u001b[1;31;47m─────────────────── \u001b[0m\u001b[1;31mDataframe Generation\u001b[0m\u001b[1;31;47m ───────────────────\u001b[0m\n"
      ]
     },
     "metadata": {},
     "output_type": "display_data"
    },
    {
     "data": {
      "text/html": [
       "<pre style=\"white-space:pre;overflow-x:auto;line-height:normal;font-family:Menlo,'DejaVu Sans Mono',consolas,'Courier New',monospace\"><span style=\"color: #800000; text-decoration-color: #800000; background-color: #c0c0c0; font-weight: bold\">Interactions data being read from 6ahu_interface_list.txt</span><span style=\"color: #808000; text-decoration-color: #808000; background-color: #c0c0c0; font-weight: bold\">...</span>\n",
       "</pre>\n"
      ],
      "text/plain": [
       "\u001b[1;31;47mInteractions data being read from 6ahu_interface_list.txt\u001b[0m\u001b[1;33;47m...\u001b[0m\n"
      ]
     },
     "metadata": {},
     "output_type": "display_data"
    },
    {
     "data": {
      "text/html": [
       "<pre style=\"white-space:pre;overflow-x:auto;line-height:normal;font-family:Menlo,'DejaVu Sans Mono',consolas,'Courier New',monospace\"><span style=\"color: #800000; text-decoration-color: #800000; background-color: #c0c0c0; font-weight: bold\">Interactions data read and converted to a dataframe.</span>\n",
       "</pre>\n"
      ],
      "text/plain": [
       "\u001b[1;31;47mInteractions data read and converted to a dataframe.\u001b[0m\n"
      ]
     },
     "metadata": {},
     "output_type": "display_data"
    },
    {
     "data": {
      "text/html": [
       "<pre style=\"white-space:pre;overflow-x:auto;line-height:normal;font-family:Menlo,'DejaVu Sans Mono',consolas,'Courier New',monospace\"><span style=\"color: #800000; text-decoration-color: #800000; background-color: #c0c0c0; font-weight: bold\">─────────────── </span><span style=\"color: #800000; text-decoration-color: #800000; font-weight: bold\">End of Dataframe Generation</span><span style=\"color: #800000; text-decoration-color: #800000; background-color: #c0c0c0; font-weight: bold\"> ────────────────</span>\n",
       "</pre>\n"
      ],
      "text/plain": [
       "\u001b[1;31;47m─────────────── \u001b[0m\u001b[1;31mEnd of Dataframe Generation\u001b[0m\u001b[1;31;47m ────────────────\u001b[0m\n"
      ]
     },
     "metadata": {},
     "output_type": "display_data"
    },
    {
     "data": {
      "text/html": [
       "<pre style=\"white-space:pre;overflow-x:auto;line-height:normal;font-family:Menlo,'DejaVu Sans Mono',consolas,'Courier New',monospace\"><span style=\"color: #800000; text-decoration-color: #800000; background-color: #c0c0c0; font-weight: bold\">─────────── </span><span style=\"color: #800000; text-decoration-color: #800000; font-weight: bold\">Storing For Later Use &amp; Wrapping-Up</span><span style=\"color: #800000; text-decoration-color: #800000; background-color: #c0c0c0; font-weight: bold\"> ────────────</span>\n",
       "</pre>\n"
      ],
      "text/plain": [
       "\u001b[1;31;47m─────────── \u001b[0m\u001b[1;31mStoring For Later Use & Wrapping-Up\u001b[0m\u001b[1;31;47m ────────────\u001b[0m\n"
      ]
     },
     "metadata": {},
     "output_type": "display_data"
    },
    {
     "data": {
      "text/html": [
       "<pre style=\"white-space:pre;overflow-x:auto;line-height:normal;font-family:Menlo,'DejaVu Sans Mono',consolas,'Courier New',monospace\"><span style=\"color: #800000; text-decoration-color: #800000; background-color: #c0c0c0; font-weight: bold\">A dataframe of the data has been saved as a file in a manner</span>\n",
       "<span style=\"color: #800000; text-decoration-color: #800000; background-color: #c0c0c0; font-weight: bold\">where other Python programs can access it (pickled form).</span>\n",
       "<span style=\"color: #800000; text-decoration-color: #800000; background-color: #c0c0c0; font-weight: bold\">RESULTING DATAFRAME is stored as ==&gt; </span>\n",
       "<span style=\"color: #008000; text-decoration-color: #008000; background-color: #c0c0c0\">'6ahu_PISAinterface_summary_pickled_df.pkl'</span>\n",
       "</pre>\n"
      ],
      "text/plain": [
       "\u001b[1;31;47mA dataframe of the data has been saved as a file in a manner\u001b[0m\n",
       "\u001b[1;31;47mwhere other Python programs can access it \u001b[0m\u001b[1;31;47m(\u001b[0m\u001b[1;31;47mpickled form\u001b[0m\u001b[1;31;47m)\u001b[0m\u001b[1;31;47m.\u001b[0m\n",
       "\u001b[1;31;47mRESULTING DATAFRAME is stored as ==> \u001b[0m\n",
       "\u001b[32;47m'6ahu_PISAinterface_summary_pickled_df.pkl'\u001b[0m\n"
      ]
     },
     "metadata": {},
     "output_type": "display_data"
    },
    {
     "data": {
      "text/html": [
       "<pre style=\"white-space:pre;overflow-x:auto;line-height:normal;font-family:Menlo,'DejaVu Sans Mono',consolas,'Courier New',monospace\"><span style=\"color: #800000; text-decoration-color: #800000; background-color: #c0c0c0; font-weight: bold\">Returning a dataframe with the information as well.</span>\n",
       "</pre>\n"
      ],
      "text/plain": [
       "\u001b[1;31;47mReturning a dataframe with the information as well.\u001b[0m\n"
      ]
     },
     "metadata": {},
     "output_type": "display_data"
    },
    {
     "data": {
      "text/html": [
       "<pre style=\"white-space:pre;overflow-x:auto;line-height:normal;font-family:Menlo,'DejaVu Sans Mono',consolas,'Courier New',monospace\"><span style=\"color: #800000; text-decoration-color: #800000; background-color: #c0c0c0; font-weight: bold\">─────────────── </span><span style=\"color: #800000; text-decoration-color: #800000; font-weight: bold\">End of Storing &amp; Wrapping-Up</span><span style=\"color: #800000; text-decoration-color: #800000; background-color: #c0c0c0; font-weight: bold\"> ───────────────</span>\n",
       "</pre>\n"
      ],
      "text/plain": [
       "\u001b[1;31;47m─────────────── \u001b[0m\u001b[1;31mEnd of Storing & Wrapping-Up\u001b[0m\u001b[1;31;47m ───────────────\u001b[0m\n"
      ]
     },
     "metadata": {},
     "output_type": "display_data"
    }
   ],
   "source": [
    "df = pisa_interface_list_to_df('6ahu')"
   ]
  },
  {
   "cell_type": "markdown",
   "id": "02f7e9c3-8c92-49c6-b78f-546f9c4f54cf",
   "metadata": {},
   "source": [
    "------"
   ]
  },
  {
   "cell_type": "markdown",
   "id": "1dd6166d-3c82-4317-9446-034d79e3db24",
   "metadata": {},
   "source": [
    "## Dealing with the multiindex complexity by bypassing it."
   ]
  },
  {
   "cell_type": "markdown",
   "id": "606fd9da-241a-4874-b5d4-9641c9f4e616",
   "metadata": {},
   "source": [
    "Note that the MultiIndex columns here make things little more difficult than with typical, single-level dataframes. If you need evidence of that to see how usually it is much easier working with dataframs, see the first two notebooks that come up with you launch a session from my [blast-binder](https://github.com/fomightez/blast-binder) site. Those first two notebooks cover using the dataframe containing BLAST results some. Also for groupby that is easier, see the second notebook in active launches from in my [psbdum-binder](https://github.com/fomightez/pdbsum-binder) site. \n",
    "\n",
    "However, for the the dataframe produced by the script `pisa_interface_list_to_df.py`, we get the MultiIndex column / Hierarchical indexing. If we don't care how well the column labels parallel PDBePISA's Interfaces webpage, we have options. Let's show collapsing the MultiIndex/ hierarchical columms for easier use of typical Pandas methods and functions. Hopefully, you'll find the results much easier to work with and curse me for not showing this sooner.\n",
    "\n",
    "We'll show the first few rows of the dataframe being used here as an exammple once more so changes upon collapsing will be obvious."
   ]
  },
  {
   "cell_type": "code",
   "execution_count": 5,
   "id": "a18541b5-3d75-4473-9704-cfef1c7d2101",
   "metadata": {},
   "outputs": [
    {
     "data": {
      "text/html": [
       "<div>\n",
       "<style scoped>\n",
       "    .dataframe tbody tr th:only-of-type {\n",
       "        vertical-align: middle;\n",
       "    }\n",
       "\n",
       "    .dataframe tbody tr th {\n",
       "        vertical-align: top;\n",
       "    }\n",
       "\n",
       "    .dataframe thead tr th {\n",
       "        text-align: left;\n",
       "    }\n",
       "</style>\n",
       "<table border=\"1\" class=\"dataframe\">\n",
       "  <thead>\n",
       "    <tr>\n",
       "      <th></th>\n",
       "      <th></th>\n",
       "      <th colspan=\"4\" halign=\"left\">Chain 1</th>\n",
       "      <th>x</th>\n",
       "      <th colspan=\"4\" halign=\"left\">Chain 2</th>\n",
       "      <th colspan=\"7\" halign=\"left\">Interface</th>\n",
       "    </tr>\n",
       "    <tr>\n",
       "      <th></th>\n",
       "      <th>row #</th>\n",
       "      <th>Chain label</th>\n",
       "      <th>Number_InterfacingAtoms</th>\n",
       "      <th>Number_InterfacingResidues</th>\n",
       "      <th>Surface (Å$^2$)</th>\n",
       "      <th></th>\n",
       "      <th>Chain label</th>\n",
       "      <th>Number_InterfacingAtoms</th>\n",
       "      <th>Number_InterfacingResidues</th>\n",
       "      <th>Surface (Å$^2$)</th>\n",
       "      <th>Area (Å$^2$)</th>\n",
       "      <th>Solvation free energy gain</th>\n",
       "      <th>Solvation gain P-value</th>\n",
       "      <th>Hydrogen bonds</th>\n",
       "      <th>Salt Bridges</th>\n",
       "      <th>Disuflides</th>\n",
       "      <th>CSS</th>\n",
       "    </tr>\n",
       "  </thead>\n",
       "  <tbody>\n",
       "    <tr>\n",
       "      <th>0</th>\n",
       "      <td>1</td>\n",
       "      <td>B</td>\n",
       "      <td>578</td>\n",
       "      <td>143</td>\n",
       "      <td>46081</td>\n",
       "      <td>◊</td>\n",
       "      <td>A</td>\n",
       "      <td>717</td>\n",
       "      <td>101</td>\n",
       "      <td>60764</td>\n",
       "      <td>6096.4</td>\n",
       "      <td>-80.6</td>\n",
       "      <td>0.981</td>\n",
       "      <td>93</td>\n",
       "      <td>0</td>\n",
       "      <td>0</td>\n",
       "      <td>0.0</td>\n",
       "    </tr>\n",
       "    <tr>\n",
       "      <th>1</th>\n",
       "      <td>2</td>\n",
       "      <td>H</td>\n",
       "      <td>213</td>\n",
       "      <td>53</td>\n",
       "      <td>8805</td>\n",
       "      <td>◊</td>\n",
       "      <td>L</td>\n",
       "      <td>269</td>\n",
       "      <td>68</td>\n",
       "      <td>19954</td>\n",
       "      <td>2298.1</td>\n",
       "      <td>-28.0</td>\n",
       "      <td>0.096</td>\n",
       "      <td>20</td>\n",
       "      <td>2</td>\n",
       "      <td>0</td>\n",
       "      <td>0.0</td>\n",
       "    </tr>\n",
       "    <tr>\n",
       "      <th>2</th>\n",
       "      <td>3</td>\n",
       "      <td>C</td>\n",
       "      <td>176</td>\n",
       "      <td>44</td>\n",
       "      <td>13848</td>\n",
       "      <td>◊</td>\n",
       "      <td>K</td>\n",
       "      <td>193</td>\n",
       "      <td>51</td>\n",
       "      <td>9529</td>\n",
       "      <td>1757.2</td>\n",
       "      <td>-15.6</td>\n",
       "      <td>0.199</td>\n",
       "      <td>14</td>\n",
       "      <td>3</td>\n",
       "      <td>0</td>\n",
       "      <td>0.0</td>\n",
       "    </tr>\n",
       "    <tr>\n",
       "      <th>3</th>\n",
       "      <td>4</td>\n",
       "      <td>G</td>\n",
       "      <td>190</td>\n",
       "      <td>52</td>\n",
       "      <td>9528</td>\n",
       "      <td>◊</td>\n",
       "      <td>A</td>\n",
       "      <td>204</td>\n",
       "      <td>21</td>\n",
       "      <td>60764</td>\n",
       "      <td>1683.4</td>\n",
       "      <td>-2.0</td>\n",
       "      <td>0.936</td>\n",
       "      <td>12</td>\n",
       "      <td>0</td>\n",
       "      <td>0</td>\n",
       "      <td>0.0</td>\n",
       "    </tr>\n",
       "    <tr>\n",
       "      <th>4</th>\n",
       "      <td>5</td>\n",
       "      <td>K</td>\n",
       "      <td>157</td>\n",
       "      <td>40</td>\n",
       "      <td>9529</td>\n",
       "      <td>◊</td>\n",
       "      <td>A</td>\n",
       "      <td>188</td>\n",
       "      <td>35</td>\n",
       "      <td>60764</td>\n",
       "      <td>1643.0</td>\n",
       "      <td>-27.2</td>\n",
       "      <td>0.692</td>\n",
       "      <td>21</td>\n",
       "      <td>0</td>\n",
       "      <td>0</td>\n",
       "      <td>0.0</td>\n",
       "    </tr>\n",
       "  </tbody>\n",
       "</table>\n",
       "</div>"
      ],
      "text/plain": [
       "            Chain 1                                                     \\\n",
       "  row # Chain label Number_InterfacingAtoms Number_InterfacingResidues   \n",
       "0     1           B                     578                        143   \n",
       "1     2           H                     213                         53   \n",
       "2     3           C                     176                         44   \n",
       "3     4           G                     190                         52   \n",
       "4     5           K                     157                         40   \n",
       "\n",
       "                   x     Chain 2                          \\\n",
       "  Surface (Å$^2$)    Chain label Number_InterfacingAtoms   \n",
       "0           46081  ◊           A                     717   \n",
       "1            8805  ◊           L                     269   \n",
       "2           13848  ◊           K                     193   \n",
       "3            9528  ◊           A                     204   \n",
       "4            9529  ◊           A                     188   \n",
       "\n",
       "                                                Interface  \\\n",
       "  Number_InterfacingResidues Surface (Å$^2$) Area (Å$^2$)   \n",
       "0                        101           60764       6096.4   \n",
       "1                         68           19954       2298.1   \n",
       "2                         51            9529       1757.2   \n",
       "3                         21           60764       1683.4   \n",
       "4                         35           60764       1643.0   \n",
       "\n",
       "                                                                    \\\n",
       "  Solvation free energy gain Solvation gain P-value Hydrogen bonds   \n",
       "0                      -80.6                  0.981             93   \n",
       "1                      -28.0                  0.096             20   \n",
       "2                      -15.6                  0.199             14   \n",
       "3                       -2.0                  0.936             12   \n",
       "4                      -27.2                  0.692             21   \n",
       "\n",
       "                                \n",
       "  Salt Bridges Disuflides  CSS  \n",
       "0            0          0  0.0  \n",
       "1            2          0  0.0  \n",
       "2            3          0  0.0  \n",
       "3            0          0  0.0  \n",
       "4            0          0  0.0  "
      ]
     },
     "execution_count": 5,
     "metadata": {},
     "output_type": "execute_result"
    }
   ],
   "source": [
    "df.head()"
   ]
  },
  {
   "cell_type": "markdown",
   "id": "f0b33c9f-522a-42d6-b8c9-1e9184984d9c",
   "metadata": {},
   "source": [
    "One way to collapse is to just tell tell Pandas to take only one level of the label names. We'll tell Pandas to use the lower one of the two."
   ]
  },
  {
   "cell_type": "code",
   "execution_count": 6,
   "id": "2832f5a7-9caf-4807-a9a9-cabf96221ee6",
   "metadata": {},
   "outputs": [],
   "source": [
    "df_collapsed1 = df.copy()\n",
    "df_collapsed1.columns = df_collapsed1.columns.get_level_values(1)"
   ]
  },
  {
   "cell_type": "markdown",
   "id": "37126acd-2301-4067-8bac-050ccdb7f48a",
   "metadata": {},
   "source": [
    "The copying here was done to keep the original intact. However, you probably would also want to **keep the original intact for viewing** in a notebook because the collapsed versions don't look as nice displaying in Jupyter. "
   ]
  },
  {
   "cell_type": "code",
   "execution_count": 7,
   "id": "65ca23a6-37eb-48f5-abe7-95efc414ba54",
   "metadata": {},
   "outputs": [
    {
     "data": {
      "text/html": [
       "<div>\n",
       "<style scoped>\n",
       "    .dataframe tbody tr th:only-of-type {\n",
       "        vertical-align: middle;\n",
       "    }\n",
       "\n",
       "    .dataframe tbody tr th {\n",
       "        vertical-align: top;\n",
       "    }\n",
       "\n",
       "    .dataframe thead th {\n",
       "        text-align: right;\n",
       "    }\n",
       "</style>\n",
       "<table border=\"1\" class=\"dataframe\">\n",
       "  <thead>\n",
       "    <tr style=\"text-align: right;\">\n",
       "      <th></th>\n",
       "      <th>row #</th>\n",
       "      <th>Chain label</th>\n",
       "      <th>Number_InterfacingAtoms</th>\n",
       "      <th>Number_InterfacingResidues</th>\n",
       "      <th>Surface (Å$^2$)</th>\n",
       "      <th></th>\n",
       "      <th>Chain label</th>\n",
       "      <th>Number_InterfacingAtoms</th>\n",
       "      <th>Number_InterfacingResidues</th>\n",
       "      <th>Surface (Å$^2$)</th>\n",
       "      <th>Area (Å$^2$)</th>\n",
       "      <th>Solvation free energy gain</th>\n",
       "      <th>Solvation gain P-value</th>\n",
       "      <th>Hydrogen bonds</th>\n",
       "      <th>Salt Bridges</th>\n",
       "      <th>Disuflides</th>\n",
       "      <th>CSS</th>\n",
       "    </tr>\n",
       "  </thead>\n",
       "  <tbody>\n",
       "    <tr>\n",
       "      <th>0</th>\n",
       "      <td>1</td>\n",
       "      <td>B</td>\n",
       "      <td>578</td>\n",
       "      <td>143</td>\n",
       "      <td>46081</td>\n",
       "      <td>◊</td>\n",
       "      <td>A</td>\n",
       "      <td>717</td>\n",
       "      <td>101</td>\n",
       "      <td>60764</td>\n",
       "      <td>6096.4</td>\n",
       "      <td>-80.6</td>\n",
       "      <td>0.981</td>\n",
       "      <td>93</td>\n",
       "      <td>0</td>\n",
       "      <td>0</td>\n",
       "      <td>0.0</td>\n",
       "    </tr>\n",
       "    <tr>\n",
       "      <th>1</th>\n",
       "      <td>2</td>\n",
       "      <td>H</td>\n",
       "      <td>213</td>\n",
       "      <td>53</td>\n",
       "      <td>8805</td>\n",
       "      <td>◊</td>\n",
       "      <td>L</td>\n",
       "      <td>269</td>\n",
       "      <td>68</td>\n",
       "      <td>19954</td>\n",
       "      <td>2298.1</td>\n",
       "      <td>-28.0</td>\n",
       "      <td>0.096</td>\n",
       "      <td>20</td>\n",
       "      <td>2</td>\n",
       "      <td>0</td>\n",
       "      <td>0.0</td>\n",
       "    </tr>\n",
       "    <tr>\n",
       "      <th>2</th>\n",
       "      <td>3</td>\n",
       "      <td>C</td>\n",
       "      <td>176</td>\n",
       "      <td>44</td>\n",
       "      <td>13848</td>\n",
       "      <td>◊</td>\n",
       "      <td>K</td>\n",
       "      <td>193</td>\n",
       "      <td>51</td>\n",
       "      <td>9529</td>\n",
       "      <td>1757.2</td>\n",
       "      <td>-15.6</td>\n",
       "      <td>0.199</td>\n",
       "      <td>14</td>\n",
       "      <td>3</td>\n",
       "      <td>0</td>\n",
       "      <td>0.0</td>\n",
       "    </tr>\n",
       "    <tr>\n",
       "      <th>3</th>\n",
       "      <td>4</td>\n",
       "      <td>G</td>\n",
       "      <td>190</td>\n",
       "      <td>52</td>\n",
       "      <td>9528</td>\n",
       "      <td>◊</td>\n",
       "      <td>A</td>\n",
       "      <td>204</td>\n",
       "      <td>21</td>\n",
       "      <td>60764</td>\n",
       "      <td>1683.4</td>\n",
       "      <td>-2.0</td>\n",
       "      <td>0.936</td>\n",
       "      <td>12</td>\n",
       "      <td>0</td>\n",
       "      <td>0</td>\n",
       "      <td>0.0</td>\n",
       "    </tr>\n",
       "    <tr>\n",
       "      <th>4</th>\n",
       "      <td>5</td>\n",
       "      <td>K</td>\n",
       "      <td>157</td>\n",
       "      <td>40</td>\n",
       "      <td>9529</td>\n",
       "      <td>◊</td>\n",
       "      <td>A</td>\n",
       "      <td>188</td>\n",
       "      <td>35</td>\n",
       "      <td>60764</td>\n",
       "      <td>1643.0</td>\n",
       "      <td>-27.2</td>\n",
       "      <td>0.692</td>\n",
       "      <td>21</td>\n",
       "      <td>0</td>\n",
       "      <td>0</td>\n",
       "      <td>0.0</td>\n",
       "    </tr>\n",
       "  </tbody>\n",
       "</table>\n",
       "</div>"
      ],
      "text/plain": [
       "   row # Chain label  Number_InterfacingAtoms  Number_InterfacingResidues  \\\n",
       "0      1           B                      578                         143   \n",
       "1      2           H                      213                          53   \n",
       "2      3           C                      176                          44   \n",
       "3      4           G                      190                          52   \n",
       "4      5           K                      157                          40   \n",
       "\n",
       "   Surface (Å$^2$)    Chain label  Number_InterfacingAtoms  \\\n",
       "0            46081  ◊           A                      717   \n",
       "1             8805  ◊           L                      269   \n",
       "2            13848  ◊           K                      193   \n",
       "3             9528  ◊           A                      204   \n",
       "4             9529  ◊           A                      188   \n",
       "\n",
       "   Number_InterfacingResidues  Surface (Å$^2$)  Area (Å$^2$)  \\\n",
       "0                         101            60764        6096.4   \n",
       "1                          68            19954        2298.1   \n",
       "2                          51             9529        1757.2   \n",
       "3                          21            60764        1683.4   \n",
       "4                          35            60764        1643.0   \n",
       "\n",
       "   Solvation free energy gain  Solvation gain P-value  Hydrogen bonds  \\\n",
       "0                       -80.6                   0.981              93   \n",
       "1                       -28.0                   0.096              20   \n",
       "2                       -15.6                   0.199              14   \n",
       "3                        -2.0                   0.936              12   \n",
       "4                       -27.2                   0.692              21   \n",
       "\n",
       "   Salt Bridges  Disuflides  CSS  \n",
       "0             0           0  0.0  \n",
       "1             2           0  0.0  \n",
       "2             3           0  0.0  \n",
       "3             0           0  0.0  \n",
       "4             0           0  0.0  "
      ]
     },
     "execution_count": 7,
     "metadata": {},
     "output_type": "execute_result"
    }
   ],
   "source": [
    "df_collapsed1.head()"
   ]
  },
  {
   "cell_type": "markdown",
   "id": "6bde557c-f130-42e0-92e6-ee31cdf4d49c",
   "metadata": {},
   "source": [
    "Notice that to get the lower one, or the second one listed, `.get_level_values(1)` was used in the assignment of the new columns. This may seem odd to use `(1)` to specify the **second** set of elements listed; however, this comes from Python using zero-indexing, which means it uses index of value `0` to refer to the **first** element in any iterable.\n",
    "\n",
    "However, that made two columns named 'Chain label' and 'Number_InterfacingAtoms', and so on. To show that, look at:"
   ]
  },
  {
   "cell_type": "code",
   "execution_count": 8,
   "id": "2215b50a-e24d-402b-a0a5-b099f3fa4778",
   "metadata": {},
   "outputs": [
    {
     "data": {
      "text/plain": [
       "Index(['row #', 'Chain label', 'Number_InterfacingAtoms',\n",
       "       'Number_InterfacingResidues', 'Surface (Å$^2$)', ' ', 'Chain label',\n",
       "       'Number_InterfacingAtoms', 'Number_InterfacingResidues',\n",
       "       'Surface (Å$^2$)', 'Area (Å$^2$)', 'Solvation free energy gain',\n",
       "       'Solvation gain P-value', 'Hydrogen bonds', 'Salt Bridges',\n",
       "       'Disuflides', 'CSS'],\n",
       "      dtype='object')"
      ]
     },
     "execution_count": 8,
     "metadata": {},
     "output_type": "execute_result"
    }
   ],
   "source": [
    "df_collapsed1.columns "
   ]
  },
  {
   "cell_type": "markdown",
   "id": "b6b94067-3514-46dc-99af-f7537db6a350",
   "metadata": {},
   "source": [
    "That's not going to make it paricularly easy to call individual columns. For example, specifying the 'Chain label' column gives:"
   ]
  },
  {
   "cell_type": "code",
   "execution_count": 9,
   "id": "510ad6dc-2e4a-465b-8d25-356eca4b022a",
   "metadata": {},
   "outputs": [
    {
     "data": {
      "text/html": [
       "<div>\n",
       "<style scoped>\n",
       "    .dataframe tbody tr th:only-of-type {\n",
       "        vertical-align: middle;\n",
       "    }\n",
       "\n",
       "    .dataframe tbody tr th {\n",
       "        vertical-align: top;\n",
       "    }\n",
       "\n",
       "    .dataframe thead th {\n",
       "        text-align: right;\n",
       "    }\n",
       "</style>\n",
       "<table border=\"1\" class=\"dataframe\">\n",
       "  <thead>\n",
       "    <tr style=\"text-align: right;\">\n",
       "      <th></th>\n",
       "      <th>Chain label</th>\n",
       "      <th>Chain label</th>\n",
       "    </tr>\n",
       "  </thead>\n",
       "  <tbody>\n",
       "    <tr>\n",
       "      <th>0</th>\n",
       "      <td>B</td>\n",
       "      <td>A</td>\n",
       "    </tr>\n",
       "    <tr>\n",
       "      <th>1</th>\n",
       "      <td>H</td>\n",
       "      <td>L</td>\n",
       "    </tr>\n",
       "    <tr>\n",
       "      <th>2</th>\n",
       "      <td>C</td>\n",
       "      <td>K</td>\n",
       "    </tr>\n",
       "    <tr>\n",
       "      <th>3</th>\n",
       "      <td>G</td>\n",
       "      <td>A</td>\n",
       "    </tr>\n",
       "    <tr>\n",
       "      <th>4</th>\n",
       "      <td>K</td>\n",
       "      <td>A</td>\n",
       "    </tr>\n",
       "  </tbody>\n",
       "</table>\n",
       "</div>"
      ],
      "text/plain": [
       "  Chain label Chain label\n",
       "0           B           A\n",
       "1           H           L\n",
       "2           C           K\n",
       "3           G           A\n",
       "4           K           A"
      ]
     },
     "execution_count": 9,
     "metadata": {},
     "output_type": "execute_result"
    }
   ],
   "source": [
    "df_collapsed1['Chain label'].head()"
   ]
  },
  {
   "cell_type": "markdown",
   "id": "39d17372-aad2-443e-8d28-0515c64ec112",
   "metadata": {},
   "source": [
    "Another way to show they aren't unique would be by using to Python's set math to reduce the columns to the unique ones, and see if that number of columns matches the total, like so:"
   ]
  },
  {
   "cell_type": "code",
   "execution_count": 10,
   "id": "a33e947e-0f48-4dd0-bb06-94d6addef930",
   "metadata": {},
   "outputs": [
    {
     "data": {
      "text/plain": [
       "False"
      ]
     },
     "execution_count": 10,
     "metadata": {},
     "output_type": "execute_result"
    }
   ],
   "source": [
    "len(df_collapsed1.columns) == len(set(df_collapsed1.columns))"
   ]
  },
  {
   "cell_type": "markdown",
   "id": "c6ca22f2-2fcd-46ff-95f8-07527adff180",
   "metadata": {},
   "source": [
    "Checking the equality condition on the cell above is `False` because `len(df_collapsed1.columns)` is 17 and `len(set(df_collapsed1.columns))` is `13`."
   ]
  },
  {
   "cell_type": "markdown",
   "id": "041bb845-1290-4746-a173-94e85436cabc",
   "metadata": {},
   "source": [
    "We can actual collapse the contents of the multi-level columns because they were designed to make the columns unique and so we can keep that information by using the Python's join method in conjunction with Pandas' series `.map` method."
   ]
  },
  {
   "cell_type": "code",
   "execution_count": 11,
   "id": "8546a94a-5a7b-474b-b3e8-c350fdc4991b",
   "metadata": {},
   "outputs": [],
   "source": [
    "df_collapsed2 = df.copy()\n",
    "df_collapsed2.columns = df_collapsed2.columns.map(' '.join)"
   ]
  },
  {
   "cell_type": "code",
   "execution_count": 12,
   "id": "b8a8a0b6-f9a0-4e41-afc7-54bfeb5c5747",
   "metadata": {},
   "outputs": [
    {
     "data": {
      "text/html": [
       "<div>\n",
       "<style scoped>\n",
       "    .dataframe tbody tr th:only-of-type {\n",
       "        vertical-align: middle;\n",
       "    }\n",
       "\n",
       "    .dataframe tbody tr th {\n",
       "        vertical-align: top;\n",
       "    }\n",
       "\n",
       "    .dataframe thead th {\n",
       "        text-align: right;\n",
       "    }\n",
       "</style>\n",
       "<table border=\"1\" class=\"dataframe\">\n",
       "  <thead>\n",
       "    <tr style=\"text-align: right;\">\n",
       "      <th></th>\n",
       "      <th>row #</th>\n",
       "      <th>Chain 1 Chain label</th>\n",
       "      <th>Chain 1 Number_InterfacingAtoms</th>\n",
       "      <th>Chain 1 Number_InterfacingResidues</th>\n",
       "      <th>Chain 1 Surface (Å$^2$)</th>\n",
       "      <th>x</th>\n",
       "      <th>Chain 2 Chain label</th>\n",
       "      <th>Chain 2 Number_InterfacingAtoms</th>\n",
       "      <th>Chain 2 Number_InterfacingResidues</th>\n",
       "      <th>Chain 2 Surface (Å$^2$)</th>\n",
       "      <th>Interface Area (Å$^2$)</th>\n",
       "      <th>Interface Solvation free energy gain</th>\n",
       "      <th>Interface Solvation gain P-value</th>\n",
       "      <th>Interface Hydrogen bonds</th>\n",
       "      <th>Interface Salt Bridges</th>\n",
       "      <th>Interface Disuflides</th>\n",
       "      <th>Interface CSS</th>\n",
       "    </tr>\n",
       "  </thead>\n",
       "  <tbody>\n",
       "    <tr>\n",
       "      <th>0</th>\n",
       "      <td>1</td>\n",
       "      <td>B</td>\n",
       "      <td>578</td>\n",
       "      <td>143</td>\n",
       "      <td>46081</td>\n",
       "      <td>◊</td>\n",
       "      <td>A</td>\n",
       "      <td>717</td>\n",
       "      <td>101</td>\n",
       "      <td>60764</td>\n",
       "      <td>6096.4</td>\n",
       "      <td>-80.6</td>\n",
       "      <td>0.981</td>\n",
       "      <td>93</td>\n",
       "      <td>0</td>\n",
       "      <td>0</td>\n",
       "      <td>0.0</td>\n",
       "    </tr>\n",
       "    <tr>\n",
       "      <th>1</th>\n",
       "      <td>2</td>\n",
       "      <td>H</td>\n",
       "      <td>213</td>\n",
       "      <td>53</td>\n",
       "      <td>8805</td>\n",
       "      <td>◊</td>\n",
       "      <td>L</td>\n",
       "      <td>269</td>\n",
       "      <td>68</td>\n",
       "      <td>19954</td>\n",
       "      <td>2298.1</td>\n",
       "      <td>-28.0</td>\n",
       "      <td>0.096</td>\n",
       "      <td>20</td>\n",
       "      <td>2</td>\n",
       "      <td>0</td>\n",
       "      <td>0.0</td>\n",
       "    </tr>\n",
       "    <tr>\n",
       "      <th>2</th>\n",
       "      <td>3</td>\n",
       "      <td>C</td>\n",
       "      <td>176</td>\n",
       "      <td>44</td>\n",
       "      <td>13848</td>\n",
       "      <td>◊</td>\n",
       "      <td>K</td>\n",
       "      <td>193</td>\n",
       "      <td>51</td>\n",
       "      <td>9529</td>\n",
       "      <td>1757.2</td>\n",
       "      <td>-15.6</td>\n",
       "      <td>0.199</td>\n",
       "      <td>14</td>\n",
       "      <td>3</td>\n",
       "      <td>0</td>\n",
       "      <td>0.0</td>\n",
       "    </tr>\n",
       "    <tr>\n",
       "      <th>3</th>\n",
       "      <td>4</td>\n",
       "      <td>G</td>\n",
       "      <td>190</td>\n",
       "      <td>52</td>\n",
       "      <td>9528</td>\n",
       "      <td>◊</td>\n",
       "      <td>A</td>\n",
       "      <td>204</td>\n",
       "      <td>21</td>\n",
       "      <td>60764</td>\n",
       "      <td>1683.4</td>\n",
       "      <td>-2.0</td>\n",
       "      <td>0.936</td>\n",
       "      <td>12</td>\n",
       "      <td>0</td>\n",
       "      <td>0</td>\n",
       "      <td>0.0</td>\n",
       "    </tr>\n",
       "    <tr>\n",
       "      <th>4</th>\n",
       "      <td>5</td>\n",
       "      <td>K</td>\n",
       "      <td>157</td>\n",
       "      <td>40</td>\n",
       "      <td>9529</td>\n",
       "      <td>◊</td>\n",
       "      <td>A</td>\n",
       "      <td>188</td>\n",
       "      <td>35</td>\n",
       "      <td>60764</td>\n",
       "      <td>1643.0</td>\n",
       "      <td>-27.2</td>\n",
       "      <td>0.692</td>\n",
       "      <td>21</td>\n",
       "      <td>0</td>\n",
       "      <td>0</td>\n",
       "      <td>0.0</td>\n",
       "    </tr>\n",
       "  </tbody>\n",
       "</table>\n",
       "</div>"
      ],
      "text/plain": [
       "     row # Chain 1 Chain label  Chain 1 Number_InterfacingAtoms  \\\n",
       "0        1                   B                              578   \n",
       "1        2                   H                              213   \n",
       "2        3                   C                              176   \n",
       "3        4                   G                              190   \n",
       "4        5                   K                              157   \n",
       "\n",
       "   Chain 1 Number_InterfacingResidues  Chain 1 Surface (Å$^2$) x    \\\n",
       "0                                 143                    46081   ◊   \n",
       "1                                  53                     8805   ◊   \n",
       "2                                  44                    13848   ◊   \n",
       "3                                  52                     9528   ◊   \n",
       "4                                  40                     9529   ◊   \n",
       "\n",
       "  Chain 2 Chain label  Chain 2 Number_InterfacingAtoms  \\\n",
       "0                   A                              717   \n",
       "1                   L                              269   \n",
       "2                   K                              193   \n",
       "3                   A                              204   \n",
       "4                   A                              188   \n",
       "\n",
       "   Chain 2 Number_InterfacingResidues  Chain 2 Surface (Å$^2$)  \\\n",
       "0                                 101                    60764   \n",
       "1                                  68                    19954   \n",
       "2                                  51                     9529   \n",
       "3                                  21                    60764   \n",
       "4                                  35                    60764   \n",
       "\n",
       "   Interface Area (Å$^2$)  Interface Solvation free energy gain  \\\n",
       "0                  6096.4                                 -80.6   \n",
       "1                  2298.1                                 -28.0   \n",
       "2                  1757.2                                 -15.6   \n",
       "3                  1683.4                                  -2.0   \n",
       "4                  1643.0                                 -27.2   \n",
       "\n",
       "   Interface Solvation gain P-value  Interface Hydrogen bonds  \\\n",
       "0                             0.981                        93   \n",
       "1                             0.096                        20   \n",
       "2                             0.199                        14   \n",
       "3                             0.936                        12   \n",
       "4                             0.692                        21   \n",
       "\n",
       "   Interface Salt Bridges  Interface Disuflides  Interface CSS  \n",
       "0                       0                     0            0.0  \n",
       "1                       2                     0            0.0  \n",
       "2                       3                     0            0.0  \n",
       "3                       0                     0            0.0  \n",
       "4                       0                     0            0.0  "
      ]
     },
     "execution_count": 12,
     "metadata": {},
     "output_type": "execute_result"
    }
   ],
   "source": [
    "df_collapsed2.head()"
   ]
  },
  {
   "cell_type": "code",
   "execution_count": 13,
   "id": "cacfb61d-90de-410f-a52c-31ebf932bbe2",
   "metadata": {},
   "outputs": [
    {
     "data": {
      "text/plain": [
       "Index(['  row #', 'Chain 1 Chain label', 'Chain 1 Number_InterfacingAtoms',\n",
       "       'Chain 1 Number_InterfacingResidues', 'Chain 1 Surface (Å$^2$)', 'x  ',\n",
       "       'Chain 2 Chain label', 'Chain 2 Number_InterfacingAtoms',\n",
       "       'Chain 2 Number_InterfacingResidues', 'Chain 2 Surface (Å$^2$)',\n",
       "       'Interface Area (Å$^2$)', 'Interface Solvation free energy gain',\n",
       "       'Interface Solvation gain P-value', 'Interface Hydrogen bonds',\n",
       "       'Interface Salt Bridges', 'Interface Disuflides', 'Interface CSS'],\n",
       "      dtype='object')"
      ]
     },
     "execution_count": 13,
     "metadata": {},
     "output_type": "execute_result"
    }
   ],
   "source": [
    "df_collapsed2.columns"
   ]
  },
  {
   "cell_type": "markdown",
   "id": "26e31490-6e71-4744-8ef0-a721b5514b51",
   "metadata": {},
   "source": [
    "Now we'll check computationally these are all unique, similar to how we tried in attempt 1 above by seeing if the total number of columns is the same as the number of unique columns:"
   ]
  },
  {
   "cell_type": "code",
   "execution_count": 14,
   "id": "8c655a39-a33a-4253-aae3-4d7965523fdc",
   "metadata": {},
   "outputs": [
    {
     "data": {
      "text/plain": [
       "True"
      ]
     },
     "execution_count": 14,
     "metadata": {},
     "output_type": "execute_result"
    }
   ],
   "source": [
    "len(df_collapsed2.columns) == len(set(df_collapsed2.columns))"
   ]
  },
  {
   "cell_type": "markdown",
   "id": "2d56872c-c92b-40fd-a17c-5b5483e5092b",
   "metadata": {},
   "source": [
    "If you are happy with the collapsed form, you can use it to do further downstream analysis. Applying methods and functions that involve the columns will have syntax that is easier to write. And indeed some typical Pandas features may only be available using the collapsed form.\n",
    "\n",
    "For an example, the renaming is easier to write:"
   ]
  },
  {
   "cell_type": "code",
   "execution_count": 15,
   "id": "4e0ea0f3-a2ca-4e92-af6e-fd399e79e76f",
   "metadata": {},
   "outputs": [],
   "source": [
    "df_collapsed2 = df_collapsed2.rename(columns={'Chain 1 Chain label':'Chain1'}) "
   ]
  },
  {
   "cell_type": "markdown",
   "id": "c1d649cc-5ac5-4359-b61c-209bb77ff6c8",
   "metadata": {},
   "source": [
    "And then if you have a column name that is a single word, you can use Pandas attribute notation to make it easier to specify a column.  \n",
    "For example, `df_collapsed2.Chain1_label` is easier to write than `df_collapsed2['Chain1']`."
   ]
  },
  {
   "cell_type": "code",
   "execution_count": 16,
   "id": "d0ce150f-a450-4f4e-b5b8-5f97deaa77f1",
   "metadata": {},
   "outputs": [
    {
     "data": {
      "text/plain": [
       "0     B\n",
       "1     H\n",
       "2     C\n",
       "3     G\n",
       "4     K\n",
       "5     B\n",
       "6     D\n",
       "7     F\n",
       "8     D\n",
       "9     E\n",
       "10    J\n",
       "11    C\n",
       "12    H\n",
       "13    B\n",
       "14    D\n",
       "15    L\n",
       "16    F\n",
       "17    E\n",
       "18    A\n",
       "19    E\n",
       "20    E\n",
       "21    D\n",
       "22    B\n",
       "23    H\n",
       "24    I\n",
       "25    J\n",
       "26    D\n",
       "27    I\n",
       "28    E\n",
       "29    H\n",
       "30    C\n",
       "31    E\n",
       "32    K\n",
       "33    J\n",
       "34    K\n",
       "35    G\n",
       "36    B\n",
       "Name: Chain1, dtype: object"
      ]
     },
     "execution_count": 16,
     "metadata": {},
     "output_type": "execute_result"
    }
   ],
   "source": [
    "df_collapsed2.Chain1"
   ]
  },
  {
   "cell_type": "markdown",
   "id": "570ca8ed-e896-46fb-9d61-1790d0a9ac80",
   "metadata": {},
   "source": [
    "You can imagine as you move towards doing more complex Pandas processing, minimizing the complexity of writing the commands can start contributing substantially to ease of use."
   ]
  },
  {
   "cell_type": "markdown",
   "id": "6d11f966-a4d8-45ae-a8bf-7ddf885911d4",
   "metadata": {},
   "source": [
    "## Adding more datatypes to the dataframe\n",
    "\n",
    "Not all the columns in the dataframes produced by `pisa_interface_list_to_df.py` have defined datatypes. This is to make it simpler while allowing the greatest flexibility in downstream analsysis. Important to why the choice was made to keep it simpler is the fact not all the dataframes from all structure data look like above; you can see more of a range by running [this notebook](tests_of_pisa_interface_list_to_df.py.ipynb). For example, the example used here looks like the following for datatypes:"
   ]
  },
  {
   "cell_type": "code",
   "execution_count": 17,
   "id": "d1676832-66a6-4d48-a453-4a6e4fda20a9",
   "metadata": {},
   "outputs": [
    {
     "data": {
      "text/plain": [
       "           row #                           int64\n",
       "Chain 1    Chain label                    object\n",
       "           Number_InterfacingAtoms         int64\n",
       "           Number_InterfacingResidues      int64\n",
       "           Surface (Å$^2$)                 int64\n",
       "x                                         object\n",
       "Chain 2    Chain label                    object\n",
       "           Number_InterfacingAtoms         int64\n",
       "           Number_InterfacingResidues      int64\n",
       "           Surface (Å$^2$)                 int64\n",
       "Interface  Area (Å$^2$)                  float64\n",
       "           Solvation free energy gain    float64\n",
       "           Solvation gain P-value        float64\n",
       "           Hydrogen bonds                  int64\n",
       "           Salt Bridges                    int64\n",
       "           Disuflides                      int64\n",
       "           CSS                           float64\n",
       "dtype: object"
      ]
     },
     "execution_count": 17,
     "metadata": {},
     "output_type": "execute_result"
    }
   ],
   "source": [
    "df.dtypes"
   ]
  },
  {
   "cell_type": "markdown",
   "id": "f5312c3e-40de-4d73-9a9d-c373742de449",
   "metadata": {},
   "source": [
    "Notice that while a lot of them are decimal value, indicated by `float`, and integer types, several are `object` datatype (`dtype`)  which means they come from columns where mixed types of data. \n",
    "\n",
    "What you see when you run `df.dtypes` may differ markedly if content in your columns and rows varies from the example here. In particular, those with 'average' columns look much different.   \n",
    "Let's see an example of that by running the next two cells:"
   ]
  },
  {
   "cell_type": "code",
   "execution_count": 18,
   "id": "039b1aee-6ac0-46bb-9a80-9d6cb10ef150",
   "metadata": {},
   "outputs": [
    {
     "data": {
      "text/html": [
       "<pre style=\"white-space:pre;overflow-x:auto;line-height:normal;font-family:Menlo,'DejaVu Sans Mono',consolas,'Courier New',monospace\"><span style=\"color: #800000; text-decoration-color: #800000; background-color: #c0c0c0; font-weight: bold\">──────────────────── </span><span style=\"color: #800000; text-decoration-color: #800000; font-weight: bold\">Input Preparation</span><span style=\"color: #800000; text-decoration-color: #800000; background-color: #c0c0c0; font-weight: bold\"> ─────────────────────</span>\n",
       "</pre>\n"
      ],
      "text/plain": [
       "\u001b[1;31;47m──────────────────── \u001b[0m\u001b[1;31mInput Preparation\u001b[0m\u001b[1;31;47m ─────────────────────\u001b[0m\n"
      ]
     },
     "metadata": {},
     "output_type": "display_data"
    },
    {
     "data": {
      "text/html": [
       "<pre style=\"white-space:pre;overflow-x:auto;line-height:normal;font-family:Menlo,'DejaVu Sans Mono',consolas,'Courier New',monospace\"><span style=\"color: #800000; text-decoration-color: #800000; background-color: #c0c0c0; font-weight: bold\">File </span><span style=\"color: #008000; text-decoration-color: #008000; background-color: #c0c0c0\">'1trn_interface_list.txt'</span><span style=\"color: #800000; text-decoration-color: #800000; background-color: #c0c0c0; font-weight: bold\"> provided as source of </span>\n",
       "<span style=\"color: #800000; text-decoration-color: #800000; background-color: #c0c0c0; font-weight: bold\">interface data.</span>\n",
       "</pre>\n"
      ],
      "text/plain": [
       "\u001b[1;31;47mFile \u001b[0m\u001b[32;47m'1trn_interface_list.txt'\u001b[0m\u001b[1;31;47m provided as source of \u001b[0m\n",
       "\u001b[1;31;47minterface data.\u001b[0m\n"
      ]
     },
     "metadata": {},
     "output_type": "display_data"
    },
    {
     "data": {
      "text/html": [
       "<pre style=\"white-space:pre;overflow-x:auto;line-height:normal;font-family:Menlo,'DejaVu Sans Mono',consolas,'Courier New',monospace\"><span style=\"color: #800000; text-decoration-color: #800000; background-color: #c0c0c0; font-weight: bold\">───────────────── </span><span style=\"color: #800000; text-decoration-color: #800000; font-weight: bold\">End of Input Preparation</span><span style=\"color: #800000; text-decoration-color: #800000; background-color: #c0c0c0; font-weight: bold\"> ─────────────────</span>\n",
       "</pre>\n"
      ],
      "text/plain": [
       "\u001b[1;31;47m───────────────── \u001b[0m\u001b[1;31mEnd of Input Preparation\u001b[0m\u001b[1;31;47m ─────────────────\u001b[0m\n"
      ]
     },
     "metadata": {},
     "output_type": "display_data"
    },
    {
     "data": {
      "text/html": [
       "<pre style=\"white-space:pre;overflow-x:auto;line-height:normal;font-family:Menlo,'DejaVu Sans Mono',consolas,'Courier New',monospace\"><span style=\"color: #800000; text-decoration-color: #800000; background-color: #c0c0c0; font-weight: bold\">─────────────────── </span><span style=\"color: #800000; text-decoration-color: #800000; font-weight: bold\">Dataframe Generation</span><span style=\"color: #800000; text-decoration-color: #800000; background-color: #c0c0c0; font-weight: bold\"> ───────────────────</span>\n",
       "</pre>\n"
      ],
      "text/plain": [
       "\u001b[1;31;47m─────────────────── \u001b[0m\u001b[1;31mDataframe Generation\u001b[0m\u001b[1;31;47m ───────────────────\u001b[0m\n"
      ]
     },
     "metadata": {},
     "output_type": "display_data"
    },
    {
     "data": {
      "text/html": [
       "<pre style=\"white-space:pre;overflow-x:auto;line-height:normal;font-family:Menlo,'DejaVu Sans Mono',consolas,'Courier New',monospace\"><span style=\"color: #800000; text-decoration-color: #800000; background-color: #c0c0c0; font-weight: bold\">Interactions data being read from 1trn_interface_list.txt</span><span style=\"color: #808000; text-decoration-color: #808000; background-color: #c0c0c0; font-weight: bold\">...</span>\n",
       "</pre>\n"
      ],
      "text/plain": [
       "\u001b[1;31;47mInteractions data being read from 1trn_interface_list.txt\u001b[0m\u001b[1;33;47m...\u001b[0m\n"
      ]
     },
     "metadata": {},
     "output_type": "display_data"
    },
    {
     "data": {
      "text/html": [
       "<pre style=\"white-space:pre;overflow-x:auto;line-height:normal;font-family:Menlo,'DejaVu Sans Mono',consolas,'Courier New',monospace\"><span style=\"color: #800000; text-decoration-color: #800000; background-color: #c0c0c0; font-weight: bold\">Interactions data read and converted to a dataframe.</span>\n",
       "</pre>\n"
      ],
      "text/plain": [
       "\u001b[1;31;47mInteractions data read and converted to a dataframe.\u001b[0m\n"
      ]
     },
     "metadata": {},
     "output_type": "display_data"
    },
    {
     "data": {
      "text/html": [
       "<pre style=\"white-space:pre;overflow-x:auto;line-height:normal;font-family:Menlo,'DejaVu Sans Mono',consolas,'Courier New',monospace\"><span style=\"color: #800000; text-decoration-color: #800000; background-color: #c0c0c0; font-weight: bold\">─────────────── </span><span style=\"color: #800000; text-decoration-color: #800000; font-weight: bold\">End of Dataframe Generation</span><span style=\"color: #800000; text-decoration-color: #800000; background-color: #c0c0c0; font-weight: bold\"> ────────────────</span>\n",
       "</pre>\n"
      ],
      "text/plain": [
       "\u001b[1;31;47m─────────────── \u001b[0m\u001b[1;31mEnd of Dataframe Generation\u001b[0m\u001b[1;31;47m ────────────────\u001b[0m\n"
      ]
     },
     "metadata": {},
     "output_type": "display_data"
    },
    {
     "data": {
      "text/html": [
       "<pre style=\"white-space:pre;overflow-x:auto;line-height:normal;font-family:Menlo,'DejaVu Sans Mono',consolas,'Courier New',monospace\"><span style=\"color: #800000; text-decoration-color: #800000; background-color: #c0c0c0; font-weight: bold\">─────────── </span><span style=\"color: #800000; text-decoration-color: #800000; font-weight: bold\">Storing For Later Use &amp; Wrapping-Up</span><span style=\"color: #800000; text-decoration-color: #800000; background-color: #c0c0c0; font-weight: bold\"> ────────────</span>\n",
       "</pre>\n"
      ],
      "text/plain": [
       "\u001b[1;31;47m─────────── \u001b[0m\u001b[1;31mStoring For Later Use & Wrapping-Up\u001b[0m\u001b[1;31;47m ────────────\u001b[0m\n"
      ]
     },
     "metadata": {},
     "output_type": "display_data"
    },
    {
     "data": {
      "text/html": [
       "<pre style=\"white-space:pre;overflow-x:auto;line-height:normal;font-family:Menlo,'DejaVu Sans Mono',consolas,'Courier New',monospace\"><span style=\"color: #800000; text-decoration-color: #800000; background-color: #c0c0c0; font-weight: bold\">A dataframe of the data has been saved as a file in a manner</span>\n",
       "<span style=\"color: #800000; text-decoration-color: #800000; background-color: #c0c0c0; font-weight: bold\">where other Python programs can access it (pickled form).</span>\n",
       "<span style=\"color: #800000; text-decoration-color: #800000; background-color: #c0c0c0; font-weight: bold\">RESULTING DATAFRAME is stored as ==&gt; </span>\n",
       "<span style=\"color: #008000; text-decoration-color: #008000; background-color: #c0c0c0\">'1trn_PISAinterface_summary_pickled_df.pkl'</span>\n",
       "</pre>\n"
      ],
      "text/plain": [
       "\u001b[1;31;47mA dataframe of the data has been saved as a file in a manner\u001b[0m\n",
       "\u001b[1;31;47mwhere other Python programs can access it \u001b[0m\u001b[1;31;47m(\u001b[0m\u001b[1;31;47mpickled form\u001b[0m\u001b[1;31;47m)\u001b[0m\u001b[1;31;47m.\u001b[0m\n",
       "\u001b[1;31;47mRESULTING DATAFRAME is stored as ==> \u001b[0m\n",
       "\u001b[32;47m'1trn_PISAinterface_summary_pickled_df.pkl'\u001b[0m\n"
      ]
     },
     "metadata": {},
     "output_type": "display_data"
    },
    {
     "data": {
      "text/html": [
       "<pre style=\"white-space:pre;overflow-x:auto;line-height:normal;font-family:Menlo,'DejaVu Sans Mono',consolas,'Courier New',monospace\"><span style=\"color: #800000; text-decoration-color: #800000; background-color: #c0c0c0; font-weight: bold\">Returning a dataframe with the information as well.</span>\n",
       "</pre>\n"
      ],
      "text/plain": [
       "\u001b[1;31;47mReturning a dataframe with the information as well.\u001b[0m\n"
      ]
     },
     "metadata": {},
     "output_type": "display_data"
    },
    {
     "data": {
      "text/html": [
       "<pre style=\"white-space:pre;overflow-x:auto;line-height:normal;font-family:Menlo,'DejaVu Sans Mono',consolas,'Courier New',monospace\"><span style=\"color: #800000; text-decoration-color: #800000; background-color: #c0c0c0; font-weight: bold\">─────────────── </span><span style=\"color: #800000; text-decoration-color: #800000; font-weight: bold\">End of Storing &amp; Wrapping-Up</span><span style=\"color: #800000; text-decoration-color: #800000; background-color: #c0c0c0; font-weight: bold\"> ───────────────</span>\n",
       "</pre>\n"
      ],
      "text/plain": [
       "\u001b[1;31;47m─────────────── \u001b[0m\u001b[1;31mEnd of Storing & Wrapping-Up\u001b[0m\u001b[1;31;47m ───────────────\u001b[0m\n"
      ]
     },
     "metadata": {},
     "output_type": "display_data"
    }
   ],
   "source": [
    "dfav = pisa_interface_list_to_df('1trn')"
   ]
  },
  {
   "cell_type": "code",
   "execution_count": 19,
   "id": "d0267fcf-1826-4666-9f13-445477c2b710",
   "metadata": {},
   "outputs": [
    {
     "data": {
      "text/plain": [
       "           Id                             object\n",
       "           row #                          object\n",
       "Chain 1    Chain label                    object\n",
       "           Number_InterfacingAtoms        object\n",
       "           Number_InterfacingResidues     object\n",
       "           Surface (Å$^2$)                object\n",
       "x                                         object\n",
       "Chain 2    Chain label                    object\n",
       "           SymOp                          object\n",
       "           SymID                          object\n",
       "           Number_InterfacingAtoms        object\n",
       "           Number_InterfacingResidues     object\n",
       "           Surface (Å$^2$)                object\n",
       "Interface  Area (Å$^2$)                  float64\n",
       "           Solvation free energy gain    float64\n",
       "           Solvation gain P-value        float64\n",
       "           Hydrogen bonds                  int64\n",
       "           Salt Bridges                    int64\n",
       "           Disuflides                      int64\n",
       "           CSS                           float64\n",
       "dtype: object"
      ]
     },
     "execution_count": 19,
     "metadata": {},
     "output_type": "execute_result"
    }
   ],
   "source": [
    "dfav.dtypes"
   ]
  },
  {
   "cell_type": "markdown",
   "id": "a911a8cf-333d-4dcf-a3fc-469004270ffa",
   "metadata": {},
   "source": [
    "Note that a lot of these are `object` dtype because the 'average' rows cause a lot of blank cells in the left part of the table. By looking at the first few rows, that can be see:"
   ]
  },
  {
   "cell_type": "code",
   "execution_count": 20,
   "id": "7c290898-88d2-4bf7-aba0-51007415149d",
   "metadata": {},
   "outputs": [
    {
     "data": {
      "text/html": [
       "<div>\n",
       "<style scoped>\n",
       "    .dataframe tbody tr th:only-of-type {\n",
       "        vertical-align: middle;\n",
       "    }\n",
       "\n",
       "    .dataframe tbody tr th {\n",
       "        vertical-align: top;\n",
       "    }\n",
       "\n",
       "    .dataframe thead tr th {\n",
       "        text-align: left;\n",
       "    }\n",
       "</style>\n",
       "<table border=\"1\" class=\"dataframe\">\n",
       "  <thead>\n",
       "    <tr>\n",
       "      <th></th>\n",
       "      <th colspan=\"2\" halign=\"left\"></th>\n",
       "      <th colspan=\"4\" halign=\"left\">Chain 1</th>\n",
       "      <th>x</th>\n",
       "      <th colspan=\"6\" halign=\"left\">Chain 2</th>\n",
       "      <th colspan=\"7\" halign=\"left\">Interface</th>\n",
       "    </tr>\n",
       "    <tr>\n",
       "      <th></th>\n",
       "      <th>Id</th>\n",
       "      <th>row #</th>\n",
       "      <th>Chain label</th>\n",
       "      <th>Number_InterfacingAtoms</th>\n",
       "      <th>Number_InterfacingResidues</th>\n",
       "      <th>Surface (Å$^2$)</th>\n",
       "      <th></th>\n",
       "      <th>Chain label</th>\n",
       "      <th>SymOp</th>\n",
       "      <th>SymID</th>\n",
       "      <th>Number_InterfacingAtoms</th>\n",
       "      <th>Number_InterfacingResidues</th>\n",
       "      <th>Surface (Å$^2$)</th>\n",
       "      <th>Area (Å$^2$)</th>\n",
       "      <th>Solvation free energy gain</th>\n",
       "      <th>Solvation gain P-value</th>\n",
       "      <th>Hydrogen bonds</th>\n",
       "      <th>Salt Bridges</th>\n",
       "      <th>Disuflides</th>\n",
       "      <th>CSS</th>\n",
       "    </tr>\n",
       "  </thead>\n",
       "  <tbody>\n",
       "    <tr>\n",
       "      <th>0</th>\n",
       "      <td>1</td>\n",
       "      <td>1</td>\n",
       "      <td>A</td>\n",
       "      <td>68</td>\n",
       "      <td>19</td>\n",
       "      <td>9795</td>\n",
       "      <td>x</td>\n",
       "      <td>A</td>\n",
       "      <td>-y,x,z</td>\n",
       "      <td>3_555</td>\n",
       "      <td>81</td>\n",
       "      <td>20</td>\n",
       "      <td>9795</td>\n",
       "      <td>726.0</td>\n",
       "      <td>-3.3</td>\n",
       "      <td>0.416</td>\n",
       "      <td>8</td>\n",
       "      <td>1</td>\n",
       "      <td>0</td>\n",
       "      <td>0.0</td>\n",
       "    </tr>\n",
       "    <tr>\n",
       "      <th>1</th>\n",
       "      <td></td>\n",
       "      <td>2</td>\n",
       "      <td>B</td>\n",
       "      <td>79</td>\n",
       "      <td>19</td>\n",
       "      <td>9608</td>\n",
       "      <td>x</td>\n",
       "      <td>B</td>\n",
       "      <td>-y+1,x,z</td>\n",
       "      <td>3_655</td>\n",
       "      <td>65</td>\n",
       "      <td>20</td>\n",
       "      <td>9608</td>\n",
       "      <td>698.3</td>\n",
       "      <td>-2.2</td>\n",
       "      <td>0.553</td>\n",
       "      <td>10</td>\n",
       "      <td>2</td>\n",
       "      <td>0</td>\n",
       "      <td>0.0</td>\n",
       "    </tr>\n",
       "    <tr>\n",
       "      <th>2</th>\n",
       "      <td></td>\n",
       "      <td></td>\n",
       "      <td></td>\n",
       "      <td></td>\n",
       "      <td></td>\n",
       "      <td></td>\n",
       "      <td></td>\n",
       "      <td></td>\n",
       "      <td></td>\n",
       "      <td></td>\n",
       "      <td></td>\n",
       "      <td></td>\n",
       "      <td>**_Average:_**</td>\n",
       "      <td>712.1</td>\n",
       "      <td>-2.7</td>\n",
       "      <td>0.484</td>\n",
       "      <td>9</td>\n",
       "      <td>2</td>\n",
       "      <td>0</td>\n",
       "      <td>0.0</td>\n",
       "    </tr>\n",
       "    <tr>\n",
       "      <th>3</th>\n",
       "      <td>2</td>\n",
       "      <td>3</td>\n",
       "      <td>B</td>\n",
       "      <td>26</td>\n",
       "      <td>11</td>\n",
       "      <td>9608</td>\n",
       "      <td>◊</td>\n",
       "      <td>A</td>\n",
       "      <td>x,y,z</td>\n",
       "      <td>1_555</td>\n",
       "      <td>29</td>\n",
       "      <td>13</td>\n",
       "      <td>9795</td>\n",
       "      <td>238.1</td>\n",
       "      <td>-1.8</td>\n",
       "      <td>0.399</td>\n",
       "      <td>2</td>\n",
       "      <td>0</td>\n",
       "      <td>0</td>\n",
       "      <td>0.0</td>\n",
       "    </tr>\n",
       "    <tr>\n",
       "      <th>4</th>\n",
       "      <td>3</td>\n",
       "      <td>4</td>\n",
       "      <td>A</td>\n",
       "      <td>27</td>\n",
       "      <td>12</td>\n",
       "      <td>9795</td>\n",
       "      <td>◊</td>\n",
       "      <td>B</td>\n",
       "      <td>x,y,z-1</td>\n",
       "      <td>1_554</td>\n",
       "      <td>25</td>\n",
       "      <td>8</td>\n",
       "      <td>9608</td>\n",
       "      <td>216.4</td>\n",
       "      <td>-3.3</td>\n",
       "      <td>0.130</td>\n",
       "      <td>3</td>\n",
       "      <td>0</td>\n",
       "      <td>0</td>\n",
       "      <td>0.0</td>\n",
       "    </tr>\n",
       "  </tbody>\n",
       "</table>\n",
       "</div>"
      ],
      "text/plain": [
       "               Chain 1                                                     \\\n",
       "  Id row # Chain label Number_InterfacingAtoms Number_InterfacingResidues   \n",
       "0  1     1           A                      68                         19   \n",
       "1        2           B                      79                         19   \n",
       "2                                                                           \n",
       "3  2     3           B                      26                         11   \n",
       "4  3     4           A                      27                         12   \n",
       "\n",
       "                   x     Chain 2                                           \\\n",
       "  Surface (Å$^2$)    Chain label     SymOp  SymID Number_InterfacingAtoms   \n",
       "0            9795  x           A    -y,x,z  3_555                      81   \n",
       "1            9608  x           B  -y+1,x,z  3_655                      65   \n",
       "2                                                                           \n",
       "3            9608  ◊           A     x,y,z  1_555                      29   \n",
       "4            9795  ◊           B   x,y,z-1  1_554                      25   \n",
       "\n",
       "                                                Interface  \\\n",
       "  Number_InterfacingResidues Surface (Å$^2$) Area (Å$^2$)   \n",
       "0                         20            9795        726.0   \n",
       "1                         20            9608        698.3   \n",
       "2                             **_Average:_**        712.1   \n",
       "3                         13            9795        238.1   \n",
       "4                          8            9608        216.4   \n",
       "\n",
       "                                                                    \\\n",
       "  Solvation free energy gain Solvation gain P-value Hydrogen bonds   \n",
       "0                       -3.3                  0.416              8   \n",
       "1                       -2.2                  0.553             10   \n",
       "2                       -2.7                  0.484              9   \n",
       "3                       -1.8                  0.399              2   \n",
       "4                       -3.3                  0.130              3   \n",
       "\n",
       "                                \n",
       "  Salt Bridges Disuflides  CSS  \n",
       "0            1          0  0.0  \n",
       "1            2          0  0.0  \n",
       "2            2          0  0.0  \n",
       "3            0          0  0.0  \n",
       "4            0          0  0.0  "
      ]
     },
     "execution_count": 20,
     "metadata": {},
     "output_type": "execute_result"
    }
   ],
   "source": [
    "dfav.head()"
   ]
  },
  {
   "cell_type": "markdown",
   "id": "6fb1f2e4-2bc6-4739-930a-c31aacf67a19",
   "metadata": {},
   "source": [
    "See how the row with index `2` is blank most of the way across the table until the 8th row. And how the `**_Average:_**` label in that row 'disrupts' the values in the `Chain 2  Surface (Å$^2$)` column. That label there causes that column to be mixed, and so it is `object` in this case and not `int64` as that specific column is for `df`.\n",
    "\n",
    "That should give you some insight into what is going on. Let's explore how we'd work around that using a practical example."
   ]
  },
  {
   "cell_type": "markdown",
   "id": "5a37b1fd-d8ef-46ac-8995-3e1d2b1743a9",
   "metadata": {},
   "source": [
    "If you've programmed some, you probably have found computers need defined types of data often to be able to handle it correctly. And so you may need to define the datatypes (`dtypes`) in those `object` columns that have no defined dtype to manage to do further processing computationally.    \n",
    "Let's demonstrate that.\n",
    "\n",
    "In the previous notebook, we used limiting the dataframe to rows that met a condition following by sending a column to a list and then used set math to limit it to the unique values to show what residues of a chain were involved in forming interfaces. We'll attempt to do this for when Chain B here with the following code:"
   ]
  },
  {
   "cell_type": "code",
   "execution_count": 21,
   "id": "6f51cf8f-71f6-400d-b24d-69fad0382a00",
   "metadata": {},
   "outputs": [
    {
     "data": {
      "text/plain": [
       "{'11', '13', '19', '20', '3', '8', '9'}"
      ]
     },
     "execution_count": 21,
     "metadata": {},
     "output_type": "execute_result"
    }
   ],
   "source": [
    "when_B_chain1 = dfav[dfav[('Chain 1','Chain label')] == 'B']\n",
    "when_B_chain1_res = when_B_chain1[('Chain 1','Number_InterfacingResidues')].tolist()\n",
    "when_B_chain2 = dfav[dfav[('Chain 2','Chain label')] == 'B']\n",
    "when_B_chain2_res = when_B_chain2[('Chain 2','Number_InterfacingResidues')].tolist()\n",
    "chain_B_res_interacting_set = set(when_B_chain1_res + when_B_chain2_res)\n",
    "chain_B_res_interacting_set"
   ]
  },
  {
   "cell_type": "markdown",
   "id": "e9b7743d-35e7-4bcc-930e-07c5aaa3fdc1",
   "metadata": {},
   "source": [
    "You might notice there is an issue:\n",
    "\n",
    "- The numbers are flanked by quotes and **that means they are strings and not integers**.\n",
    "\n",
    "The latter would mean you cannot simply iterate on the elements of this list and tell if the positions are before or after position 10 using code like this:\n",
    "\n",
    "```python\n",
    "arbitrary_pos = 10\n",
    "for residue in chain_B_res_interacting_set:\n",
    "    if residue > 10:\n",
    "        print(f\"Residue {residue} is after {arbitrary_pos}.\")\n",
    "    else:\n",
    "        print(f\"Residue {residue} is before {arbitrary_pos}.\")\n",
    "```\n",
    "\n",
    "You can make a new cell and run that code.  \n",
    "If you do, you'll get:\n",
    "\n",
    "```python\n",
    "TypeError: '>' not supported between instances of 'str' and 'int'\n",
    "```\n",
    "\n",
    "This is because the elements of `chain_B_res_interacting_set` are strings and not integers because they came from the column that has the`object` dtype."
   ]
  },
  {
   "cell_type": "markdown",
   "id": "783bd34d-d3cb-4351-8e2b-ba72a4f86579",
   "metadata": {},
   "source": [
    "You'd have similar problems if you tried to subsequent analysis with other data in the `object` columns.\n",
    "\n",
    "In the simple example, we could cast the residue to an integer as we iterate on it.\n",
    "\n",
    "```python\n",
    "arbitrary_pos = 10\n",
    "for residue in chain_B_res_interacting_set:\n",
    "    if int(residue) > 10:\n",
    "        print(f\"Residue {residue} is after {arbitrary_pos}.\")\n",
    "    else:\n",
    "        print(f\"Residue {residue} is before {arbitrary_pos}.\")\n",
    "```\n",
    "And that would be perfectly valid if that single analyses was all you planned.  \n",
    "However, the data in `dfav` & `chain_B_res_interacting_set` aren't easily useable because you only fixed some derive data. If you were going to do a lot of different analyses it would be better to have the data in the correct form at the source to make all the downstream steps easier and consistent.  \n",
    "So let's change that in the dataframe.  \n",
    "First we'll do the `('Chain 1','Number_InterfacingResidues')` column. Because it is a good habit to test things on a copy of your dataframe first, we'l make a copy to start and work with that. (In fact, you may not like the view of the result as much as the dataframe that comes directly from `pisa_interface_list_to_df.py` and so even though you make a new dataframe to do subsequent analyses with, you may wish to keep the original for most viewing steps.) "
   ]
  },
  {
   "cell_type": "code",
   "execution_count": 22,
   "id": "3d18b991-b601-47a1-ba5f-dd0865e8c116",
   "metadata": {},
   "outputs": [
    {
     "data": {
      "text/plain": [
       "           Id                             object\n",
       "           row #                          object\n",
       "Chain 1    Chain label                    object\n",
       "           Number_InterfacingAtoms        object\n",
       "           Number_InterfacingResidues    float64\n",
       "           Surface (Å$^2$)                object\n",
       "x                                         object\n",
       "Chain 2    Chain label                    object\n",
       "           SymOp                          object\n",
       "           SymID                          object\n",
       "           Number_InterfacingAtoms        object\n",
       "           Number_InterfacingResidues     object\n",
       "           Surface (Å$^2$)                object\n",
       "Interface  Area (Å$^2$)                  float64\n",
       "           Solvation free energy gain    float64\n",
       "           Solvation gain P-value        float64\n",
       "           Hydrogen bonds                  int64\n",
       "           Salt Bridges                    int64\n",
       "           Disuflides                      int64\n",
       "           CSS                           float64\n",
       "dtype: object"
      ]
     },
     "execution_count": 22,
     "metadata": {},
     "output_type": "execute_result"
    }
   ],
   "source": [
    "dfav_fixed = dfav.copy()\n",
    "dfav_fixed[('Chain 1','Number_InterfacingResidues')] = pd.to_numeric(dfav_fixed[('Chain 1','Number_InterfacingResidues')], downcast=\"integer\")\n",
    "dfav_fixed.dtypes"
   ]
  },
  {
   "cell_type": "markdown",
   "id": "66bcbfb0-b0ef-465e-95d9-d23286e44d77",
   "metadata": {},
   "source": [
    "It's now `float64`. This is a convention where you cannot mix Nan and integers but you can mix Nan and floats. Luckily, math will still work. And at least the numbers are numbers now and not strings.  \n",
    "Let's change the other column."
   ]
  },
  {
   "cell_type": "code",
   "execution_count": 23,
   "id": "18bb86a2-57ad-4b76-99e1-3460f10b4c41",
   "metadata": {},
   "outputs": [
    {
     "data": {
      "text/plain": [
       "           Id                             object\n",
       "           row #                          object\n",
       "Chain 1    Chain label                    object\n",
       "           Number_InterfacingAtoms        object\n",
       "           Number_InterfacingResidues    float64\n",
       "           Surface (Å$^2$)                object\n",
       "x                                         object\n",
       "Chain 2    Chain label                    object\n",
       "           SymOp                          object\n",
       "           SymID                          object\n",
       "           Number_InterfacingAtoms        object\n",
       "           Number_InterfacingResidues    float64\n",
       "           Surface (Å$^2$)                object\n",
       "Interface  Area (Å$^2$)                  float64\n",
       "           Solvation free energy gain    float64\n",
       "           Solvation gain P-value        float64\n",
       "           Hydrogen bonds                  int64\n",
       "           Salt Bridges                    int64\n",
       "           Disuflides                      int64\n",
       "           CSS                           float64\n",
       "dtype: object"
      ]
     },
     "execution_count": 23,
     "metadata": {},
     "output_type": "execute_result"
    }
   ],
   "source": [
    "dfav_fixed[('Chain 2','Number_InterfacingResidues')] = pd.to_numeric(dfav_fixed[('Chain 2','Number_InterfacingResidues')], downcast=\"integer\")\n",
    "dfav_fixed.dtypes"
   ]
  },
  {
   "cell_type": "markdown",
   "id": "ed33ec8d-996f-43de-9cce-fca4ab1924b9",
   "metadata": {},
   "source": [
    "So what does the dataframe looks like in those changed columns? We can see by just printing the first few rows:"
   ]
  },
  {
   "cell_type": "code",
   "execution_count": 24,
   "id": "d60b5911-4b47-4f7f-8f31-caa86b3ec3f3",
   "metadata": {},
   "outputs": [
    {
     "data": {
      "text/html": [
       "<div>\n",
       "<style scoped>\n",
       "    .dataframe tbody tr th:only-of-type {\n",
       "        vertical-align: middle;\n",
       "    }\n",
       "\n",
       "    .dataframe tbody tr th {\n",
       "        vertical-align: top;\n",
       "    }\n",
       "\n",
       "    .dataframe thead tr th {\n",
       "        text-align: left;\n",
       "    }\n",
       "</style>\n",
       "<table border=\"1\" class=\"dataframe\">\n",
       "  <thead>\n",
       "    <tr>\n",
       "      <th></th>\n",
       "      <th colspan=\"2\" halign=\"left\"></th>\n",
       "      <th colspan=\"4\" halign=\"left\">Chain 1</th>\n",
       "      <th>x</th>\n",
       "      <th colspan=\"6\" halign=\"left\">Chain 2</th>\n",
       "      <th colspan=\"7\" halign=\"left\">Interface</th>\n",
       "    </tr>\n",
       "    <tr>\n",
       "      <th></th>\n",
       "      <th>Id</th>\n",
       "      <th>row #</th>\n",
       "      <th>Chain label</th>\n",
       "      <th>Number_InterfacingAtoms</th>\n",
       "      <th>Number_InterfacingResidues</th>\n",
       "      <th>Surface (Å$^2$)</th>\n",
       "      <th></th>\n",
       "      <th>Chain label</th>\n",
       "      <th>SymOp</th>\n",
       "      <th>SymID</th>\n",
       "      <th>Number_InterfacingAtoms</th>\n",
       "      <th>Number_InterfacingResidues</th>\n",
       "      <th>Surface (Å$^2$)</th>\n",
       "      <th>Area (Å$^2$)</th>\n",
       "      <th>Solvation free energy gain</th>\n",
       "      <th>Solvation gain P-value</th>\n",
       "      <th>Hydrogen bonds</th>\n",
       "      <th>Salt Bridges</th>\n",
       "      <th>Disuflides</th>\n",
       "      <th>CSS</th>\n",
       "    </tr>\n",
       "  </thead>\n",
       "  <tbody>\n",
       "    <tr>\n",
       "      <th>0</th>\n",
       "      <td>1</td>\n",
       "      <td>1</td>\n",
       "      <td>A</td>\n",
       "      <td>68</td>\n",
       "      <td>19.0</td>\n",
       "      <td>9795</td>\n",
       "      <td>x</td>\n",
       "      <td>A</td>\n",
       "      <td>-y,x,z</td>\n",
       "      <td>3_555</td>\n",
       "      <td>81</td>\n",
       "      <td>20.0</td>\n",
       "      <td>9795</td>\n",
       "      <td>726.0</td>\n",
       "      <td>-3.3</td>\n",
       "      <td>0.416</td>\n",
       "      <td>8</td>\n",
       "      <td>1</td>\n",
       "      <td>0</td>\n",
       "      <td>0.0</td>\n",
       "    </tr>\n",
       "    <tr>\n",
       "      <th>1</th>\n",
       "      <td></td>\n",
       "      <td>2</td>\n",
       "      <td>B</td>\n",
       "      <td>79</td>\n",
       "      <td>19.0</td>\n",
       "      <td>9608</td>\n",
       "      <td>x</td>\n",
       "      <td>B</td>\n",
       "      <td>-y+1,x,z</td>\n",
       "      <td>3_655</td>\n",
       "      <td>65</td>\n",
       "      <td>20.0</td>\n",
       "      <td>9608</td>\n",
       "      <td>698.3</td>\n",
       "      <td>-2.2</td>\n",
       "      <td>0.553</td>\n",
       "      <td>10</td>\n",
       "      <td>2</td>\n",
       "      <td>0</td>\n",
       "      <td>0.0</td>\n",
       "    </tr>\n",
       "    <tr>\n",
       "      <th>2</th>\n",
       "      <td></td>\n",
       "      <td></td>\n",
       "      <td></td>\n",
       "      <td></td>\n",
       "      <td>NaN</td>\n",
       "      <td></td>\n",
       "      <td></td>\n",
       "      <td></td>\n",
       "      <td></td>\n",
       "      <td></td>\n",
       "      <td></td>\n",
       "      <td>NaN</td>\n",
       "      <td>**_Average:_**</td>\n",
       "      <td>712.1</td>\n",
       "      <td>-2.7</td>\n",
       "      <td>0.484</td>\n",
       "      <td>9</td>\n",
       "      <td>2</td>\n",
       "      <td>0</td>\n",
       "      <td>0.0</td>\n",
       "    </tr>\n",
       "    <tr>\n",
       "      <th>3</th>\n",
       "      <td>2</td>\n",
       "      <td>3</td>\n",
       "      <td>B</td>\n",
       "      <td>26</td>\n",
       "      <td>11.0</td>\n",
       "      <td>9608</td>\n",
       "      <td>◊</td>\n",
       "      <td>A</td>\n",
       "      <td>x,y,z</td>\n",
       "      <td>1_555</td>\n",
       "      <td>29</td>\n",
       "      <td>13.0</td>\n",
       "      <td>9795</td>\n",
       "      <td>238.1</td>\n",
       "      <td>-1.8</td>\n",
       "      <td>0.399</td>\n",
       "      <td>2</td>\n",
       "      <td>0</td>\n",
       "      <td>0</td>\n",
       "      <td>0.0</td>\n",
       "    </tr>\n",
       "    <tr>\n",
       "      <th>4</th>\n",
       "      <td>3</td>\n",
       "      <td>4</td>\n",
       "      <td>A</td>\n",
       "      <td>27</td>\n",
       "      <td>12.0</td>\n",
       "      <td>9795</td>\n",
       "      <td>◊</td>\n",
       "      <td>B</td>\n",
       "      <td>x,y,z-1</td>\n",
       "      <td>1_554</td>\n",
       "      <td>25</td>\n",
       "      <td>8.0</td>\n",
       "      <td>9608</td>\n",
       "      <td>216.4</td>\n",
       "      <td>-3.3</td>\n",
       "      <td>0.130</td>\n",
       "      <td>3</td>\n",
       "      <td>0</td>\n",
       "      <td>0</td>\n",
       "      <td>0.0</td>\n",
       "    </tr>\n",
       "  </tbody>\n",
       "</table>\n",
       "</div>"
      ],
      "text/plain": [
       "               Chain 1                                                     \\\n",
       "  Id row # Chain label Number_InterfacingAtoms Number_InterfacingResidues   \n",
       "0  1     1           A                      68                       19.0   \n",
       "1        2           B                      79                       19.0   \n",
       "2                                                                     NaN   \n",
       "3  2     3           B                      26                       11.0   \n",
       "4  3     4           A                      27                       12.0   \n",
       "\n",
       "                   x     Chain 2                                           \\\n",
       "  Surface (Å$^2$)    Chain label     SymOp  SymID Number_InterfacingAtoms   \n",
       "0            9795  x           A    -y,x,z  3_555                      81   \n",
       "1            9608  x           B  -y+1,x,z  3_655                      65   \n",
       "2                                                                           \n",
       "3            9608  ◊           A     x,y,z  1_555                      29   \n",
       "4            9795  ◊           B   x,y,z-1  1_554                      25   \n",
       "\n",
       "                                                Interface  \\\n",
       "  Number_InterfacingResidues Surface (Å$^2$) Area (Å$^2$)   \n",
       "0                       20.0            9795        726.0   \n",
       "1                       20.0            9608        698.3   \n",
       "2                        NaN  **_Average:_**        712.1   \n",
       "3                       13.0            9795        238.1   \n",
       "4                        8.0            9608        216.4   \n",
       "\n",
       "                                                                    \\\n",
       "  Solvation free energy gain Solvation gain P-value Hydrogen bonds   \n",
       "0                       -3.3                  0.416              8   \n",
       "1                       -2.2                  0.553             10   \n",
       "2                       -2.7                  0.484              9   \n",
       "3                       -1.8                  0.399              2   \n",
       "4                       -3.3                  0.130              3   \n",
       "\n",
       "                                \n",
       "  Salt Bridges Disuflides  CSS  \n",
       "0            1          0  0.0  \n",
       "1            2          0  0.0  \n",
       "2            2          0  0.0  \n",
       "3            0          0  0.0  \n",
       "4            0          0  0.0  "
      ]
     },
     "execution_count": 24,
     "metadata": {},
     "output_type": "execute_result"
    }
   ],
   "source": [
    "dfav_fixed.head()"
   ]
  },
  {
   "cell_type": "markdown",
   "id": "54527a31-5f87-495b-8545-03a42fe94d17",
   "metadata": {},
   "source": [
    "Notice the `Nan` entries in the columns we altered. This stands for 'Not a Number' and is a special data value that Pandas and Python's Numerical Python module, `numpy`, use. Behind the scenes it is floating point representation, and so now the data types in the column are consistent and **no longer 'mixed'**."
   ]
  },
  {
   "cell_type": "markdown",
   "id": "2f14871b-cc46-41fa-9d1e-b4da1860fa00",
   "metadata": {},
   "source": [
    "Now that we know it works, we'll assign the 'fixed' dataframe to `dfav` and then use the code worked out above to collect the set of residues interacting and see what happends if we check if the residues are above or below:"
   ]
  },
  {
   "cell_type": "code",
   "execution_count": 25,
   "id": "6ed24570-74e9-4920-8904-65ca91869f18",
   "metadata": {},
   "outputs": [
    {
     "name": "stdout",
     "output_type": "stream",
     "text": [
      "Residue 3.0 is before 10.\n",
      "Residue 8.0 is before 10.\n",
      "Residue 9.0 is before 10.\n",
      "Residue 11.0 is after 10.\n",
      "Residue 13.0 is after 10.\n",
      "Residue 19.0 is after 10.\n",
      "Residue 20.0 is after 10.\n"
     ]
    }
   ],
   "source": [
    "dfav = dfav_fixed\n",
    "# next use code from above to get the interactingr residues for chain B\n",
    "when_B_chain1 = dfav[dfav[('Chain 1','Chain label')] == 'B']\n",
    "when_B_chain1_res = when_B_chain1[('Chain 1','Number_InterfacingResidues')].tolist()\n",
    "when_B_chain2 = dfav[dfav[('Chain 2','Chain label')] == 'B']\n",
    "when_B_chain2_res = when_B_chain2[('Chain 2','Number_InterfacingResidues')].tolist()\n",
    "chain_B_res_interacting_set = set(when_B_chain1_res + when_B_chain2_res)\n",
    "chain_B_res_interacting_set\n",
    "# next step through each element of the set checking above and below\n",
    "arbitrary_pos = 10\n",
    "for residue in chain_B_res_interacting_set:\n",
    "    if residue > 10:\n",
    "        print(f\"Residue {residue} is after {arbitrary_pos}.\")\n",
    "    else:\n",
    "        print(f\"Residue {residue} is before {arbitrary_pos}.\")"
   ]
  },
  {
   "cell_type": "markdown",
   "id": "ad609bf2-65ac-453d-b0f4-5b4d2c582aff",
   "metadata": {},
   "source": [
    "In this simplistic example case, the benefit of changing the dtype in the dataframe isn't overly clear. Especially since the `print` statements now look odd. However, you may want to do more complex Pandas steps and Pandas is good with handling `Nan` values, and so your life will be easier. And with consistent dtypes in the source dataframes, one place where you can see things would be more reproducible is that you can step to process data from corresponding columns in `df` and `dfav` now because both have the same dtype.\n",
    "\n",
    "Recall an earlier notebook covered storing the dataframe in a compressed binary 'pcikled' form and you may wish to do that with a modified version so that you easily pick up with the data in the improved form later."
   ]
  },
  {
   "cell_type": "markdown",
   "id": "515f9e8c-11ac-4342-8b4a-30468595a62d",
   "metadata": {},
   "source": [
    "--------\n",
    "\n",
    "Continue on with the next notebook in the series????. In the next notebook, I cover ...  \n",
    "Go to the index page and click through to other notebooks after the next in the series if you prefer.\n",
    "\n",
    "------\n",
    "\n",
    "-----"
   ]
  }
 ],
 "metadata": {
  "kernelspec": {
   "display_name": "Python 3 (ipykernel)",
   "language": "python",
   "name": "python3"
  },
  "language_info": {
   "codemirror_mode": {
    "name": "ipython",
    "version": 3
   },
   "file_extension": ".py",
   "mimetype": "text/x-python",
   "name": "python",
   "nbconvert_exporter": "python",
   "pygments_lexer": "ipython3",
   "version": "3.7.10"
  }
 },
 "nbformat": 4,
 "nbformat_minor": 5
}
