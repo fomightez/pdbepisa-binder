{
 "cells": [
  {
   "cell_type": "markdown",
   "metadata": {},
   "source": [
    "# Making multiple interface-reporting dataframes for several structures using snakemake"
   ]
  },
  {
   "cell_type": "markdown",
   "metadata": {},
   "source": [
    "This notebook builds on the basics covered in [Working with PDBePISA interface lists/reports in Jupyter Basics](Working%20with%20PDBePISA%20interfacelists%20in%20Jupyter%20Basics.ipynb) in order to generate dataframes detailing the interface data for many structures.\n",
    "\n",
    "----"
   ]
  },
  {
   "cell_type": "markdown",
   "metadata": {},
   "source": [
    "A previous notebook, [Working with PDBePISA interface lists/reports in Jupyter Basics](Working%20with%20PDBePISA%20interfacelists%20in%20Jupyter%20Basics.ipynb), stepped through making dataframes detailing the interface data for many structures using their PDB identifier codes, or data copied from the PDBePISA 'Interfaces' webpage, as input.  \n",
    "Is there a way to scale this up to make dataframes for a lot of structures? This may be especially helpful for the research that collects data for a lot of complexes.\n",
    "\n",
    "This notebook spells out a way to do this with minimal effort. In fact, you only need knowledge of the PDB code identifiers of the structures of interest. You'll make a file listing the PDB indentifier codes each on a separate line to define the structures and kick off the process and make the dataframes.\n",
    "\n",
    "The method used to do this scaling up involves the workflow management software **Snakemake**. For up to a few dozen structures you could make a list of PDB codes in Python and iterate on them making a dataframe for each. That's perfectly valid. However, as you try to increase your scale beyond that you'll hit issues that workflow management software helps avoid. Several aspects of the scaling problem are easy to illustrate just by thinking of trying to run several through the simplistic iterating. Imagine you just did that for seventy-seven structures and now someone wants you to add thirteen more today and then they find they need another forty-six added tomorrow. And what if you realize as you are doing this that a third of the forty-six they added later, had been done the first day? Now you have two versions of some of the files. In addition you probably remade the list to process three times even though the input was the only thing that differed. Now imagine all the numbers of structure being studied was ten- or fifty-fold greater than that. Now you can probably grasp it would benefifical for long-term tracking to have one list of the PDB codes you processed and it would be nice if you could easily work in additional data to analyze and have the files produced sorted out for you in one place. Snakemake does that. It tracks what it's already made and just makes any new files you need. In short, it makes it much easier to create reproducible and scalable data analyses. Some examples follow to help convince you of this, and then I provide some guidance if you want to learn to use Snakemake in your own workflows/pipelines.\n",
    "\n",
    "This notebook will demonstrate using Snakemake to make dataframes for several structures. And then also demonstrate adding in a few more. Some of the general features of Snakemake use are covered in the course of this.\n",
    "\n",
    "-----\n",
    "\n",
    "**Step #1:** The only input for the Snakemake file that has been made to do this scalable process is a text file listing the PDB id codes each on a separate line.\n",
    "The contents of the produced file will look much this without actual indenting:"
   ]
  },
  {
   "cell_type": "markdown",
   "metadata": {},
   "source": [
    "```text\n",
    "6kiv\n",
    "6kiz\n",
    "6kix\n",
    "```"
   ]
  },
  {
   "cell_type": "markdown",
   "metadata": {},
   "source": [
    "If you want, you can open a text file in Jupyter and directly edit the file to make your table. For the sake of the demonstration, this will be done using code within this notebook found in the cell below.\n",
    "\n",
    "\n",
    "**Step #2:** Save the table with the following name, `interface_data_2_df_codes.txt`. It has to have that name for the file with the list of PDB codes to be recognized and processed to make the dataframes corresponding to those codes.\n",
    "\n",
    "The following will do that here using this notebook; however, you can, and will want to, skip running this if already made your own file listing PDB codes. If you run it, it will replace your file. Alternatively, you can edit the code below to make a table with the contents that interest you."
   ]
  },
  {
   "cell_type": "code",
   "execution_count": 1,
   "metadata": {},
   "outputs": [
    {
     "name": "stdout",
     "output_type": "stream",
     "text": [
      "Writing 's' (str) to file 'interface_data_2_df_codes.txt'.\n"
     ]
    }
   ],
   "source": [
    "s='''6kiv\n",
    "6kiz\n",
    "6kix\n",
    "'''\n",
    "%store s >interface_data_2_df_codes.txt"
   ]
  },
  {
   "cell_type": "markdown",
   "metadata": {},
   "source": [
    "**Step #3:** Run snakemake and it will process the `interface_data_2_df_codes.txt` file to extract the PDB codes and make pickled datafiles for each dataframe.  \n",
    "The file snakemake uses by default, named `Snakefile`, is already here and that is what will run when the next command is executed.  \n",
    "It will take about a minute or less to complete if you are running the demonstration.\n",
    "\n",
    "\n",
    "**Step #3:** Run snakemake and point it at the corresponding snake file `pdb_code_2_intf_df_snakefile` and it will process the `interface_data_2_df_codes.txt` file to extract the PDB codes off each line and make pickled datafiles for each dataframe. Since there is only three in this simplisitc demo, this will be very similar to running the previous notebooks in this series with the items spelled out for each structure.    \n",
    "The file snakemake uses in this pipeline, named `pdb_code_2_intf_df_snakefile`, is already here. It is related to Python scripts and you can examine the text if you wish.  \n",
    "It will take about a minute or less to complete if you are running the demonstration."
   ]
  },
  {
   "cell_type": "code",
   "execution_count": 2,
   "metadata": {},
   "outputs": [
    {
     "name": "stdout",
     "output_type": "stream",
     "text": [
      "  % Total    % Received % Xferd  Average Speed   Time    Time     Time  Current\n",
      "                                 Dload  Upload   Total   Spent    Left  Speed\n",
      "100 43262  100 43262    0     0   227k      0 --:--:-- --:--:-- --:--:--  227k\n",
      "\u001b[33mBuilding DAG of jobs...\u001b[0m\n",
      "\u001b[33mUsing shell: /bin/bash\u001b[0m\n",
      "\u001b[33mProvided cores: 1 (use --cores to define parallelism)\u001b[0m\n",
      "\u001b[33mRules claiming more threads will be scaled down.\u001b[0m\n",
      "\u001b[33mJob stats:\n",
      "job                                      count    min threads    max threads\n",
      "-------------------------------------  -------  -------------  -------------\n",
      "all                                          1              1              1\n",
      "make_archive                                 1              1              1\n",
      "run_pisa_interface_list_to_df_for_pdb        3              1              1\n",
      "total                                        5              1              1\n",
      "\u001b[0m\n",
      "\u001b[33mSelect jobs to execute...\u001b[0m\n",
      "\u001b[32m\u001b[0m\n",
      "\u001b[32m[Wed Dec  8 19:27:28 2021]\u001b[0m\n",
      "\u001b[32mrule run_pisa_interface_list_to_df_for_pdb:\n",
      "    input: pisa_interface_list_to_df.py, pdb_6kiv_intf_2_df.txt\n",
      "    output: 6kiv_PISAinterface_summary_pickled_df.pkl\n",
      "    jobid: 2\n",
      "    wildcards: code=6kiv\n",
      "    resources: tmpdir=/tmp\u001b[0m\n",
      "\u001b[32m\u001b[0m\n",
      "\u001b[1;31;47m──────────────────── \u001b[0m\u001b[1;31mInput Preparation\u001b[0m\u001b[1;31;47m ─────────────────────\u001b[0m\n",
      "\u001b[2K\u001b[1;31;47m⠍⠉\u001b[0m Retrieving interface list page from PDBePISA.....\n",
      "\u001b[1A\u001b[2K\u001b[1;31;47mExtracting interface list from the page..\u001b[0m\n",
      "\u001b[1;31;47mExtracted interface list data saved as the file \u001b[0m\n",
      "\u001b[32;47m'6kiv_interface_list.txt'\u001b[0m\n",
      "\u001b[1;31;47m───────────────── \u001b[0m\u001b[1;31mEnd of Input Preparation\u001b[0m\u001b[1;31;47m ─────────────────\u001b[0m\n",
      "\u001b[1;31;47m─────────────────── \u001b[0m\u001b[1;31mDataframe Generation\u001b[0m\u001b[1;31;47m ───────────────────\u001b[0m\n",
      "\u001b[1;31;47mInteractions data being read from 6kiv_interface_list.txt\u001b[0m\u001b[1;33;47m...\u001b[0m\n",
      "\u001b[1;31;47mInteractions data read and converted to a dataframe.\u001b[0m\n",
      "\u001b[1;31;47m─────────────── \u001b[0m\u001b[1;31mEnd of Dataframe Generation\u001b[0m\u001b[1;31;47m ────────────────\u001b[0m\n",
      "\u001b[1;31;47m─────────── \u001b[0m\u001b[1;31mStoring For Later Use & Wrapping-Up\u001b[0m\u001b[1;31;47m ────────────\u001b[0m\n",
      "\u001b[1;31;47mA dataframe of the data has been saved as a file in a manner\u001b[0m\n",
      "\u001b[1;31;47mwhere other Python programs can access it \u001b[0m\u001b[1;31;47m(\u001b[0m\u001b[1;31;47mpickled form\u001b[0m\u001b[1;31;47m)\u001b[0m\u001b[1;31;47m.\u001b[0m\n",
      "\u001b[1;31;47mRESULTING DATAFRAME is stored as ==> \u001b[0m\n",
      "\u001b[32;47m'6kiv_PISAinterface_summary_pickled_df.pkl'\u001b[0m\n",
      "\u001b[1;31;47m─────────────── \u001b[0m\u001b[1;31mEnd of Storing & Wrapping-Up\u001b[0m\u001b[1;31;47m ───────────────\u001b[0m\n",
      "\u001b[32m[Wed Dec  8 19:27:40 2021]\u001b[0m\n",
      "\u001b[32mFinished job 2.\u001b[0m\n",
      "\u001b[32m1 of 5 steps (20%) done\u001b[0m\n",
      "\u001b[33mSelect jobs to execute...\u001b[0m\n",
      "\u001b[32m\u001b[0m\n",
      "\u001b[32m[Wed Dec  8 19:27:40 2021]\u001b[0m\n",
      "\u001b[32mrule run_pisa_interface_list_to_df_for_pdb:\n",
      "    input: pisa_interface_list_to_df.py, pdb_6kiz_intf_2_df.txt\n",
      "    output: 6kiz_PISAinterface_summary_pickled_df.pkl\n",
      "    jobid: 3\n",
      "    wildcards: code=6kiz\n",
      "    resources: tmpdir=/tmp\u001b[0m\n",
      "\u001b[32m\u001b[0m\n",
      "\u001b[1;31;47m──────────────────── \u001b[0m\u001b[1;31mInput Preparation\u001b[0m\u001b[1;31;47m ─────────────────────\u001b[0m\n",
      "\u001b[2K\u001b[1;31;47m⠄⠀\u001b[0m Retrieving interface list page from PDBePISA.....\n",
      "\u001b[1A\u001b[2K\u001b[1;31;47mExtracting interface list from the page..\u001b[0m\n",
      "\u001b[1;31;47mExtracted interface list data saved as the file \u001b[0m\n",
      "\u001b[32;47m'6kiz_interface_list.txt'\u001b[0m\n",
      "\u001b[1;31;47m───────────────── \u001b[0m\u001b[1;31mEnd of Input Preparation\u001b[0m\u001b[1;31;47m ─────────────────\u001b[0m\n",
      "\u001b[1;31;47m─────────────────── \u001b[0m\u001b[1;31mDataframe Generation\u001b[0m\u001b[1;31;47m ───────────────────\u001b[0m\n",
      "\u001b[1;31;47mInteractions data being read from 6kiz_interface_list.txt\u001b[0m\u001b[1;33;47m...\u001b[0m\n",
      "\u001b[1;31;47mInteractions data read and converted to a dataframe.\u001b[0m\n",
      "\u001b[1;31;47m─────────────── \u001b[0m\u001b[1;31mEnd of Dataframe Generation\u001b[0m\u001b[1;31;47m ────────────────\u001b[0m\n",
      "\u001b[1;31;47m─────────── \u001b[0m\u001b[1;31mStoring For Later Use & Wrapping-Up\u001b[0m\u001b[1;31;47m ────────────\u001b[0m\n",
      "\u001b[1;31;47mA dataframe of the data has been saved as a file in a manner\u001b[0m\n",
      "\u001b[1;31;47mwhere other Python programs can access it \u001b[0m\u001b[1;31;47m(\u001b[0m\u001b[1;31;47mpickled form\u001b[0m\u001b[1;31;47m)\u001b[0m\u001b[1;31;47m.\u001b[0m\n",
      "\u001b[1;31;47mRESULTING DATAFRAME is stored as ==> \u001b[0m\n",
      "\u001b[32;47m'6kiz_PISAinterface_summary_pickled_df.pkl'\u001b[0m\n",
      "\u001b[1;31;47m─────────────── \u001b[0m\u001b[1;31mEnd of Storing & Wrapping-Up\u001b[0m\u001b[1;31;47m ───────────────\u001b[0m\n",
      "\u001b[32m[Wed Dec  8 19:27:50 2021]\u001b[0m\n",
      "\u001b[32mFinished job 3.\u001b[0m\n",
      "\u001b[32m2 of 5 steps (40%) done\u001b[0m\n",
      "\u001b[33mSelect jobs to execute...\u001b[0m\n",
      "\u001b[32m\u001b[0m\n",
      "\u001b[32m[Wed Dec  8 19:27:50 2021]\u001b[0m\n",
      "\u001b[32mrule run_pisa_interface_list_to_df_for_pdb:\n",
      "    input: pisa_interface_list_to_df.py, pdb_6kix_intf_2_df.txt\n",
      "    output: 6kix_PISAinterface_summary_pickled_df.pkl\n",
      "    jobid: 4\n",
      "    wildcards: code=6kix\n",
      "    resources: tmpdir=/tmp\u001b[0m\n",
      "\u001b[32m\u001b[0m\n",
      "\u001b[1;31;47m──────────────────── \u001b[0m\u001b[1;31mInput Preparation\u001b[0m\u001b[1;31;47m ─────────────────────\u001b[0m\n",
      "\u001b[2K\u001b[1;31;47m⡂⠀\u001b[0m Retrieving interface list page from PDBePISA.....\n",
      "\u001b[1A\u001b[2K\u001b[1;31;47mExtracting interface list from the page..\u001b[0m\n",
      "\u001b[1;31;47mExtracted interface list data saved as the file \u001b[0m\n",
      "\u001b[32;47m'6kix_interface_list.txt'\u001b[0m\n",
      "\u001b[1;31;47m───────────────── \u001b[0m\u001b[1;31mEnd of Input Preparation\u001b[0m\u001b[1;31;47m ─────────────────\u001b[0m\n",
      "\u001b[1;31;47m─────────────────── \u001b[0m\u001b[1;31mDataframe Generation\u001b[0m\u001b[1;31;47m ───────────────────\u001b[0m\n",
      "\u001b[1;31;47mInteractions data being read from 6kix_interface_list.txt\u001b[0m\u001b[1;33;47m...\u001b[0m\n",
      "\u001b[1;31;47mInteractions data read and converted to a dataframe.\u001b[0m\n",
      "\u001b[1;31;47m─────────────── \u001b[0m\u001b[1;31mEnd of Dataframe Generation\u001b[0m\u001b[1;31;47m ────────────────\u001b[0m\n",
      "\u001b[1;31;47m─────────── \u001b[0m\u001b[1;31mStoring For Later Use & Wrapping-Up\u001b[0m\u001b[1;31;47m ────────────\u001b[0m\n",
      "\u001b[1;31;47mA dataframe of the data has been saved as a file in a manner\u001b[0m\n",
      "\u001b[1;31;47mwhere other Python programs can access it \u001b[0m\u001b[1;31;47m(\u001b[0m\u001b[1;31;47mpickled form\u001b[0m\u001b[1;31;47m)\u001b[0m\u001b[1;31;47m.\u001b[0m\n",
      "\u001b[1;31;47mRESULTING DATAFRAME is stored as ==> \u001b[0m\n",
      "\u001b[32;47m'6kix_PISAinterface_summary_pickled_df.pkl'\u001b[0m\n",
      "\u001b[1;31;47m─────────────── \u001b[0m\u001b[1;31mEnd of Storing & Wrapping-Up\u001b[0m\u001b[1;31;47m ───────────────\u001b[0m\n",
      "\u001b[32m[Wed Dec  8 19:28:01 2021]\u001b[0m\n",
      "\u001b[32mFinished job 4.\u001b[0m\n",
      "\u001b[32m3 of 5 steps (60%) done\u001b[0m\n",
      "\u001b[33mSelect jobs to execute...\u001b[0m\n",
      "\u001b[32m\u001b[0m\n",
      "\u001b[32m[Wed Dec  8 19:28:01 2021]\u001b[0m\n",
      "\u001b[32mrule make_archive:\n",
      "    input: 6kiv_PISAinterface_summary_pickled_df.pkl, 6kiz_PISAinterface_summary_pickled_df.pkl, 6kix_PISAinterface_summary_pickled_df.pkl\n",
      "    output: collection_of_interface_dfsDec0820211927.tar.gz\n",
      "    jobid: 1\n",
      "    resources: tmpdir=/tmp\u001b[0m\n",
      "\u001b[32m\u001b[0m\n",
      "BE SURE TO DOWNLOAD collection_of_interface_dfsDec0820211927.tar.gz.\n",
      "\u001b[32m[Wed Dec  8 19:28:01 2021]\u001b[0m\n",
      "\u001b[32mFinished job 1.\u001b[0m\n",
      "\u001b[32m4 of 5 steps (80%) done\u001b[0m\n",
      "\u001b[33mSelect jobs to execute...\u001b[0m\n",
      "\u001b[32m\u001b[0m\n",
      "\u001b[32m[Wed Dec  8 19:28:01 2021]\u001b[0m\n",
      "\u001b[32mlocalrule all:\n",
      "    input: collection_of_interface_dfsDec0820211927.tar.gz\n",
      "    jobid: 0\n",
      "    resources: tmpdir=/tmp\u001b[0m\n",
      "\u001b[32m\u001b[0m\n",
      "\u001b[32m[Wed Dec  8 19:28:01 2021]\u001b[0m\n",
      "\u001b[32mFinished job 0.\u001b[0m\n",
      "\u001b[32m5 of 5 steps (100%) done\u001b[0m\n",
      "\u001b[33mComplete log: /home/jovyan/notebooks/.snakemake/log/2021-12-08T192728.370994.snakemake.log\u001b[0m\n"
     ]
    }
   ],
   "source": [
    "!snakemake -s pdb_code_2_intf_df_snakefile --cores 1"
   ]
  },
  {
   "cell_type": "markdown",
   "metadata": {},
   "source": [
    "(For those knowledgeable with snakemake, I will say that I set the number of cores as one because I was finding with eight that occasionally a race condition would ensue where some of the auxillary scripts fetched in the course of running the report-generating notebooks would overwrite each other as they was being accessed by another notebook causing failures. Using one core avoids that hazard. I will add though that in most cases if you use multiple cores, you can easily get the additional files and a new archive made by running snakemake with your chosen number of cores again.  I never saw a race hazard with my clean rule, and so if you want to quickly start over you can run `!snakemake -s pdb_code_2_intf_df_snakefile --cores 8 clean`.)"
   ]
  },
  {
   "cell_type": "markdown",
   "metadata": {},
   "source": [
    "**Step #4:** Verify the pickled versions of the dataframes were generated.  \n",
    "You can go to the dashboard and see the ouput of running snakemake. To do that click on the Jupyter logo in the upper left top of this notebook and on that page you'll look in  the notebooks directory and you should see files that begin with the PDB identifier codes and end with `_PISAinterface_summary_pickled_df.pkl`. You could examine some of them to insure all is as expected. I'm going to move that to below so that the snakemake run log above is close by when discussing downloading the result."
   ]
  },
  {
   "cell_type": "markdown",
   "metadata": {},
   "source": [
    "If things seem to be working and you haven't run your data yet, run `!snakemake -s pdb_code_2_intf_df_snakefile --cores 8 clean` in a cell to reset things, and then edit & save `interface_data_2_df_codes.txt` to have your information, and then run the `!snakemake -s pdb_code_2_intf_df_snakefile --cores 1` step above, again."
   ]
  },
  {
   "cell_type": "markdown",
   "metadata": {},
   "source": [
    "**Step #5:** If this was anything other than the demonstration run, download the archive containing all the Jupyter notebooks bundled together.  \n",
    "For ease in downloading, all the created notebooks have been saved as a compressed archive **so that you only need to retrieve and keep track of one file**. The file you are looking for begins with `collection_of_interface_dfs` in front of a date/time stamp and ends with `.tar.gz`. The snakemake run will actually highlight this archive towards the very bottom of the run, following the words 'Be sure to download'.  \n",
    "**Download that file from this remote, temporary session to your local computer.** You should see this archive file ending in `.tar.gz` on the dashboard. Toggle next to it to select it and then select `Download` to bring it from the remote Jupyterhub session to your computer. If you don't retieve that file and the session ends, you'll need to re-run to get the results again.\n",
    "\n",
    "You should be able to unpack that archive using your favorite software to extract compressed files. If that is proving difficult, you can always reopen a session like you did to run this series of notebooks and upload the archive and then run the following command in a Jupyter notebook cellk to unpack it:\n",
    "\n",
    "```bash\n",
    "!tar xzf collection_of_interface_dfs*\n",
    "```\n",
    "\n",
    "(If you are running that command on the command line, leave off the exclamation mark.)\n",
    "You can then examine the files in the session or download the individual Jupyter notebooks similar to the advice on how to download the archive given above.\n",
    "\n",
    "-----"
   ]
  },
  {
   "cell_type": "markdown",
   "metadata": {},
   "source": [
    "### Verifying generation of the pickled dataframes\n",
    "\n",
    "Demonstrating verifying the generation of the picked dataframes was momentarily skipped over above so that that what needed to be collected from the results could be discussed. Also, check for one  was covered in prior notebook. And this can be just extended to check for the other two, like so:"
   ]
  },
  {
   "cell_type": "code",
   "execution_count": 3,
   "metadata": {},
   "outputs": [
    {
     "data": {
      "text/html": [
       "<div>\n",
       "<style scoped>\n",
       "    .dataframe tbody tr th:only-of-type {\n",
       "        vertical-align: middle;\n",
       "    }\n",
       "\n",
       "    .dataframe tbody tr th {\n",
       "        vertical-align: top;\n",
       "    }\n",
       "\n",
       "    .dataframe thead tr th {\n",
       "        text-align: left;\n",
       "    }\n",
       "</style>\n",
       "<table border=\"1\" class=\"dataframe\">\n",
       "  <thead>\n",
       "    <tr>\n",
       "      <th></th>\n",
       "      <th colspan=\"2\" halign=\"left\"></th>\n",
       "      <th colspan=\"4\" halign=\"left\">Chain 1</th>\n",
       "      <th>x</th>\n",
       "      <th colspan=\"4\" halign=\"left\">Chain 2</th>\n",
       "      <th colspan=\"7\" halign=\"left\">Interface</th>\n",
       "    </tr>\n",
       "    <tr>\n",
       "      <th></th>\n",
       "      <th>Id</th>\n",
       "      <th>row #</th>\n",
       "      <th>Chain label</th>\n",
       "      <th>Number_InterfacingAtoms</th>\n",
       "      <th>Number_InterfacingResidues</th>\n",
       "      <th>Surface (Å$^2$)</th>\n",
       "      <th></th>\n",
       "      <th>Chain label</th>\n",
       "      <th>Number_InterfacingAtoms</th>\n",
       "      <th>Number_InterfacingResidues</th>\n",
       "      <th>Surface (Å$^2$)</th>\n",
       "      <th>Area (Å$^2$)</th>\n",
       "      <th>Solvation free energy gain</th>\n",
       "      <th>Solvation gain P-value</th>\n",
       "      <th>Hydrogen bonds</th>\n",
       "      <th>Salt Bridges</th>\n",
       "      <th>Disuflides</th>\n",
       "      <th>CSS</th>\n",
       "    </tr>\n",
       "  </thead>\n",
       "  <tbody>\n",
       "    <tr>\n",
       "      <th>0</th>\n",
       "      <td>1</td>\n",
       "      <td>1</td>\n",
       "      <td>I</td>\n",
       "      <td>693</td>\n",
       "      <td>145</td>\n",
       "      <td>32328</td>\n",
       "      <td>◊</td>\n",
       "      <td>J</td>\n",
       "      <td>688</td>\n",
       "      <td>145</td>\n",
       "      <td>32489</td>\n",
       "      <td>6598.2</td>\n",
       "      <td>-91.1</td>\n",
       "      <td>0.971</td>\n",
       "      <td>365</td>\n",
       "      <td>0</td>\n",
       "      <td>0</td>\n",
       "      <td>0.0</td>\n",
       "    </tr>\n",
       "    <tr>\n",
       "      <th>1</th>\n",
       "      <td>2</td>\n",
       "      <td>2</td>\n",
       "      <td>A</td>\n",
       "      <td>257</td>\n",
       "      <td>58</td>\n",
       "      <td>9108</td>\n",
       "      <td>◊</td>\n",
       "      <td>B</td>\n",
       "      <td>241</td>\n",
       "      <td>55</td>\n",
       "      <td>8034</td>\n",
       "      <td>2566.8</td>\n",
       "      <td>-39.8</td>\n",
       "      <td>0.047</td>\n",
       "      <td>17</td>\n",
       "      <td>5</td>\n",
       "      <td>0</td>\n",
       "      <td>0.0</td>\n",
       "    </tr>\n",
       "    <tr>\n",
       "      <th>2</th>\n",
       "      <td></td>\n",
       "      <td>3</td>\n",
       "      <td>E</td>\n",
       "      <td>252</td>\n",
       "      <td>59</td>\n",
       "      <td>9111</td>\n",
       "      <td>◊</td>\n",
       "      <td>F</td>\n",
       "      <td>240</td>\n",
       "      <td>53</td>\n",
       "      <td>7067</td>\n",
       "      <td>2524.2</td>\n",
       "      <td>-42.2</td>\n",
       "      <td>0.050</td>\n",
       "      <td>14</td>\n",
       "      <td>3</td>\n",
       "      <td>0</td>\n",
       "      <td>0.0</td>\n",
       "    </tr>\n",
       "    <tr>\n",
       "      <th>3</th>\n",
       "      <td></td>\n",
       "      <td></td>\n",
       "      <td></td>\n",
       "      <td></td>\n",
       "      <td></td>\n",
       "      <td></td>\n",
       "      <td></td>\n",
       "      <td></td>\n",
       "      <td></td>\n",
       "      <td></td>\n",
       "      <td>**_Average:_**</td>\n",
       "      <td>2545.5</td>\n",
       "      <td>-41.0</td>\n",
       "      <td>0.049</td>\n",
       "      <td>16</td>\n",
       "      <td>4</td>\n",
       "      <td>0</td>\n",
       "      <td>0.0</td>\n",
       "    </tr>\n",
       "    <tr>\n",
       "      <th>4</th>\n",
       "      <td>3</td>\n",
       "      <td>4</td>\n",
       "      <td>G</td>\n",
       "      <td>242</td>\n",
       "      <td>57</td>\n",
       "      <td>9089</td>\n",
       "      <td>◊</td>\n",
       "      <td>H</td>\n",
       "      <td>251</td>\n",
       "      <td>63</td>\n",
       "      <td>8250</td>\n",
       "      <td>2474.1</td>\n",
       "      <td>-43.9</td>\n",
       "      <td>0.029</td>\n",
       "      <td>15</td>\n",
       "      <td>4</td>\n",
       "      <td>0</td>\n",
       "      <td>0.0</td>\n",
       "    </tr>\n",
       "  </tbody>\n",
       "</table>\n",
       "</div>"
      ],
      "text/plain": [
       "               Chain 1                                                     \\\n",
       "  Id row # Chain label Number_InterfacingAtoms Number_InterfacingResidues   \n",
       "0  1     1           I                     693                        145   \n",
       "1  2     2           A                     257                         58   \n",
       "2        3           E                     252                         59   \n",
       "3                                                                           \n",
       "4  3     4           G                     242                         57   \n",
       "\n",
       "                   x     Chain 2                          \\\n",
       "  Surface (Å$^2$)    Chain label Number_InterfacingAtoms   \n",
       "0           32328  ◊           J                     688   \n",
       "1            9108  ◊           B                     241   \n",
       "2            9111  ◊           F                     240   \n",
       "3                                                          \n",
       "4            9089  ◊           H                     251   \n",
       "\n",
       "                                                Interface  \\\n",
       "  Number_InterfacingResidues Surface (Å$^2$) Area (Å$^2$)   \n",
       "0                        145           32489       6598.2   \n",
       "1                         55            8034       2566.8   \n",
       "2                         53            7067       2524.2   \n",
       "3                             **_Average:_**       2545.5   \n",
       "4                         63            8250       2474.1   \n",
       "\n",
       "                                                                    \\\n",
       "  Solvation free energy gain Solvation gain P-value Hydrogen bonds   \n",
       "0                      -91.1                  0.971            365   \n",
       "1                      -39.8                  0.047             17   \n",
       "2                      -42.2                  0.050             14   \n",
       "3                      -41.0                  0.049             16   \n",
       "4                      -43.9                  0.029             15   \n",
       "\n",
       "                                \n",
       "  Salt Bridges Disuflides  CSS  \n",
       "0            0          0  0.0  \n",
       "1            5          0  0.0  \n",
       "2            3          0  0.0  \n",
       "3            4          0  0.0  \n",
       "4            4          0  0.0  "
      ]
     },
     "execution_count": 3,
     "metadata": {},
     "output_type": "execute_result"
    }
   ],
   "source": [
    "import pandas as pd\n",
    "dfv = pd.read_pickle(\"6kiv_PISAinterface_summary_pickled_df.pkl\")\n",
    "dfv.head()"
   ]
  },
  {
   "cell_type": "code",
   "execution_count": 4,
   "metadata": {},
   "outputs": [
    {
     "data": {
      "text/html": [
       "<div>\n",
       "<style scoped>\n",
       "    .dataframe tbody tr th:only-of-type {\n",
       "        vertical-align: middle;\n",
       "    }\n",
       "\n",
       "    .dataframe tbody tr th {\n",
       "        vertical-align: top;\n",
       "    }\n",
       "\n",
       "    .dataframe thead tr th {\n",
       "        text-align: left;\n",
       "    }\n",
       "</style>\n",
       "<table border=\"1\" class=\"dataframe\">\n",
       "  <thead>\n",
       "    <tr>\n",
       "      <th></th>\n",
       "      <th colspan=\"2\" halign=\"left\"></th>\n",
       "      <th colspan=\"4\" halign=\"left\">Chain 1</th>\n",
       "      <th>x</th>\n",
       "      <th colspan=\"4\" halign=\"left\">Chain 2</th>\n",
       "      <th colspan=\"7\" halign=\"left\">Interface</th>\n",
       "    </tr>\n",
       "    <tr>\n",
       "      <th></th>\n",
       "      <th>Id</th>\n",
       "      <th>row #</th>\n",
       "      <th>Chain label</th>\n",
       "      <th>Number_InterfacingAtoms</th>\n",
       "      <th>Number_InterfacingResidues</th>\n",
       "      <th>Surface (Å$^2$)</th>\n",
       "      <th></th>\n",
       "      <th>Chain label</th>\n",
       "      <th>Number_InterfacingAtoms</th>\n",
       "      <th>Number_InterfacingResidues</th>\n",
       "      <th>Surface (Å$^2$)</th>\n",
       "      <th>Area (Å$^2$)</th>\n",
       "      <th>Solvation free energy gain</th>\n",
       "      <th>Solvation gain P-value</th>\n",
       "      <th>Hydrogen bonds</th>\n",
       "      <th>Salt Bridges</th>\n",
       "      <th>Disuflides</th>\n",
       "      <th>CSS</th>\n",
       "    </tr>\n",
       "  </thead>\n",
       "  <tbody>\n",
       "    <tr>\n",
       "      <th>0</th>\n",
       "      <td>1</td>\n",
       "      <td>1</td>\n",
       "      <td>I</td>\n",
       "      <td>701</td>\n",
       "      <td>145</td>\n",
       "      <td>32782</td>\n",
       "      <td>◊</td>\n",
       "      <td>J</td>\n",
       "      <td>713</td>\n",
       "      <td>145</td>\n",
       "      <td>33005</td>\n",
       "      <td>6712.6</td>\n",
       "      <td>-85.7</td>\n",
       "      <td>0.983</td>\n",
       "      <td>361</td>\n",
       "      <td>0</td>\n",
       "      <td>0</td>\n",
       "      <td>0.0</td>\n",
       "    </tr>\n",
       "    <tr>\n",
       "      <th>1</th>\n",
       "      <td>2</td>\n",
       "      <td>2</td>\n",
       "      <td>C</td>\n",
       "      <td>243</td>\n",
       "      <td>58</td>\n",
       "      <td>9526</td>\n",
       "      <td>◊</td>\n",
       "      <td>D</td>\n",
       "      <td>240</td>\n",
       "      <td>57</td>\n",
       "      <td>8616</td>\n",
       "      <td>2485.5</td>\n",
       "      <td>-47.3</td>\n",
       "      <td>0.016</td>\n",
       "      <td>14</td>\n",
       "      <td>5</td>\n",
       "      <td>0</td>\n",
       "      <td>0.0</td>\n",
       "    </tr>\n",
       "    <tr>\n",
       "      <th>2</th>\n",
       "      <td></td>\n",
       "      <td>3</td>\n",
       "      <td>G</td>\n",
       "      <td>235</td>\n",
       "      <td>55</td>\n",
       "      <td>9202</td>\n",
       "      <td>◊</td>\n",
       "      <td>H</td>\n",
       "      <td>254</td>\n",
       "      <td>61</td>\n",
       "      <td>8361</td>\n",
       "      <td>2481.2</td>\n",
       "      <td>-43.7</td>\n",
       "      <td>0.031</td>\n",
       "      <td>14</td>\n",
       "      <td>6</td>\n",
       "      <td>0</td>\n",
       "      <td>0.0</td>\n",
       "    </tr>\n",
       "    <tr>\n",
       "      <th>3</th>\n",
       "      <td></td>\n",
       "      <td></td>\n",
       "      <td></td>\n",
       "      <td></td>\n",
       "      <td></td>\n",
       "      <td></td>\n",
       "      <td></td>\n",
       "      <td></td>\n",
       "      <td></td>\n",
       "      <td></td>\n",
       "      <td>**_Average:_**</td>\n",
       "      <td>2483.3</td>\n",
       "      <td>-45.5</td>\n",
       "      <td>0.023</td>\n",
       "      <td>14</td>\n",
       "      <td>6</td>\n",
       "      <td>0</td>\n",
       "      <td>0.0</td>\n",
       "    </tr>\n",
       "    <tr>\n",
       "      <th>4</th>\n",
       "      <td>3</td>\n",
       "      <td>4</td>\n",
       "      <td>A</td>\n",
       "      <td>243</td>\n",
       "      <td>54</td>\n",
       "      <td>9187</td>\n",
       "      <td>◊</td>\n",
       "      <td>B</td>\n",
       "      <td>222</td>\n",
       "      <td>51</td>\n",
       "      <td>7092</td>\n",
       "      <td>2425.3</td>\n",
       "      <td>-40.5</td>\n",
       "      <td>0.038</td>\n",
       "      <td>12</td>\n",
       "      <td>4</td>\n",
       "      <td>0</td>\n",
       "      <td>0.0</td>\n",
       "    </tr>\n",
       "  </tbody>\n",
       "</table>\n",
       "</div>"
      ],
      "text/plain": [
       "               Chain 1                                                     \\\n",
       "  Id row # Chain label Number_InterfacingAtoms Number_InterfacingResidues   \n",
       "0  1     1           I                     701                        145   \n",
       "1  2     2           C                     243                         58   \n",
       "2        3           G                     235                         55   \n",
       "3                                                                           \n",
       "4  3     4           A                     243                         54   \n",
       "\n",
       "                   x     Chain 2                          \\\n",
       "  Surface (Å$^2$)    Chain label Number_InterfacingAtoms   \n",
       "0           32782  ◊           J                     713   \n",
       "1            9526  ◊           D                     240   \n",
       "2            9202  ◊           H                     254   \n",
       "3                                                          \n",
       "4            9187  ◊           B                     222   \n",
       "\n",
       "                                                Interface  \\\n",
       "  Number_InterfacingResidues Surface (Å$^2$) Area (Å$^2$)   \n",
       "0                        145           33005       6712.6   \n",
       "1                         57            8616       2485.5   \n",
       "2                         61            8361       2481.2   \n",
       "3                             **_Average:_**       2483.3   \n",
       "4                         51            7092       2425.3   \n",
       "\n",
       "                                                                    \\\n",
       "  Solvation free energy gain Solvation gain P-value Hydrogen bonds   \n",
       "0                      -85.7                  0.983            361   \n",
       "1                      -47.3                  0.016             14   \n",
       "2                      -43.7                  0.031             14   \n",
       "3                      -45.5                  0.023             14   \n",
       "4                      -40.5                  0.038             12   \n",
       "\n",
       "                                \n",
       "  Salt Bridges Disuflides  CSS  \n",
       "0            0          0  0.0  \n",
       "1            5          0  0.0  \n",
       "2            6          0  0.0  \n",
       "3            6          0  0.0  \n",
       "4            4          0  0.0  "
      ]
     },
     "execution_count": 4,
     "metadata": {},
     "output_type": "execute_result"
    }
   ],
   "source": [
    "dfx = pd.read_pickle(\"6kix_PISAinterface_summary_pickled_df.pkl\")\n",
    "dfx.head()"
   ]
  },
  {
   "cell_type": "code",
   "execution_count": 5,
   "metadata": {},
   "outputs": [
    {
     "data": {
      "text/html": [
       "<div>\n",
       "<style scoped>\n",
       "    .dataframe tbody tr th:only-of-type {\n",
       "        vertical-align: middle;\n",
       "    }\n",
       "\n",
       "    .dataframe tbody tr th {\n",
       "        vertical-align: top;\n",
       "    }\n",
       "\n",
       "    .dataframe thead tr th {\n",
       "        text-align: left;\n",
       "    }\n",
       "</style>\n",
       "<table border=\"1\" class=\"dataframe\">\n",
       "  <thead>\n",
       "    <tr>\n",
       "      <th></th>\n",
       "      <th colspan=\"2\" halign=\"left\"></th>\n",
       "      <th colspan=\"4\" halign=\"left\">Chain 1</th>\n",
       "      <th>x</th>\n",
       "      <th colspan=\"4\" halign=\"left\">Chain 2</th>\n",
       "      <th colspan=\"7\" halign=\"left\">Interface</th>\n",
       "    </tr>\n",
       "    <tr>\n",
       "      <th></th>\n",
       "      <th>Id</th>\n",
       "      <th>row #</th>\n",
       "      <th>Chain label</th>\n",
       "      <th>Number_InterfacingAtoms</th>\n",
       "      <th>Number_InterfacingResidues</th>\n",
       "      <th>Surface (Å$^2$)</th>\n",
       "      <th></th>\n",
       "      <th>Chain label</th>\n",
       "      <th>Number_InterfacingAtoms</th>\n",
       "      <th>Number_InterfacingResidues</th>\n",
       "      <th>Surface (Å$^2$)</th>\n",
       "      <th>Area (Å$^2$)</th>\n",
       "      <th>Solvation free energy gain</th>\n",
       "      <th>Solvation gain P-value</th>\n",
       "      <th>Hydrogen bonds</th>\n",
       "      <th>Salt Bridges</th>\n",
       "      <th>Disuflides</th>\n",
       "      <th>CSS</th>\n",
       "    </tr>\n",
       "  </thead>\n",
       "  <tbody>\n",
       "    <tr>\n",
       "      <th>0</th>\n",
       "      <td>1</td>\n",
       "      <td>1</td>\n",
       "      <td>I</td>\n",
       "      <td>717</td>\n",
       "      <td>145</td>\n",
       "      <td>32249</td>\n",
       "      <td>◊</td>\n",
       "      <td>J</td>\n",
       "      <td>716</td>\n",
       "      <td>145</td>\n",
       "      <td>32361</td>\n",
       "      <td>6681.8</td>\n",
       "      <td>-88.4</td>\n",
       "      <td>0.982</td>\n",
       "      <td>362</td>\n",
       "      <td>0</td>\n",
       "      <td>0</td>\n",
       "      <td>0.0</td>\n",
       "    </tr>\n",
       "    <tr>\n",
       "      <th>1</th>\n",
       "      <td>2</td>\n",
       "      <td>2</td>\n",
       "      <td>G</td>\n",
       "      <td>239</td>\n",
       "      <td>56</td>\n",
       "      <td>9172</td>\n",
       "      <td>◊</td>\n",
       "      <td>H</td>\n",
       "      <td>242</td>\n",
       "      <td>60</td>\n",
       "      <td>8417</td>\n",
       "      <td>2515.2</td>\n",
       "      <td>-43.4</td>\n",
       "      <td>0.035</td>\n",
       "      <td>17</td>\n",
       "      <td>10</td>\n",
       "      <td>0</td>\n",
       "      <td>0.0</td>\n",
       "    </tr>\n",
       "    <tr>\n",
       "      <th>2</th>\n",
       "      <td></td>\n",
       "      <td>3</td>\n",
       "      <td>C</td>\n",
       "      <td>237</td>\n",
       "      <td>56</td>\n",
       "      <td>9432</td>\n",
       "      <td>◊</td>\n",
       "      <td>D</td>\n",
       "      <td>234</td>\n",
       "      <td>57</td>\n",
       "      <td>8501</td>\n",
       "      <td>2407.0</td>\n",
       "      <td>-44.7</td>\n",
       "      <td>0.026</td>\n",
       "      <td>17</td>\n",
       "      <td>5</td>\n",
       "      <td>0</td>\n",
       "      <td>0.0</td>\n",
       "    </tr>\n",
       "    <tr>\n",
       "      <th>3</th>\n",
       "      <td></td>\n",
       "      <td></td>\n",
       "      <td></td>\n",
       "      <td></td>\n",
       "      <td></td>\n",
       "      <td></td>\n",
       "      <td></td>\n",
       "      <td></td>\n",
       "      <td></td>\n",
       "      <td></td>\n",
       "      <td>**_Average:_**</td>\n",
       "      <td>2461.1</td>\n",
       "      <td>-44.0</td>\n",
       "      <td>0.031</td>\n",
       "      <td>17</td>\n",
       "      <td>8</td>\n",
       "      <td>0</td>\n",
       "      <td>0.0</td>\n",
       "    </tr>\n",
       "    <tr>\n",
       "      <th>4</th>\n",
       "      <td>3</td>\n",
       "      <td>4</td>\n",
       "      <td>A</td>\n",
       "      <td>248</td>\n",
       "      <td>57</td>\n",
       "      <td>9124</td>\n",
       "      <td>◊</td>\n",
       "      <td>B</td>\n",
       "      <td>227</td>\n",
       "      <td>54</td>\n",
       "      <td>7526</td>\n",
       "      <td>2490.9</td>\n",
       "      <td>-42.0</td>\n",
       "      <td>0.056</td>\n",
       "      <td>14</td>\n",
       "      <td>4</td>\n",
       "      <td>0</td>\n",
       "      <td>0.0</td>\n",
       "    </tr>\n",
       "  </tbody>\n",
       "</table>\n",
       "</div>"
      ],
      "text/plain": [
       "               Chain 1                                                     \\\n",
       "  Id row # Chain label Number_InterfacingAtoms Number_InterfacingResidues   \n",
       "0  1     1           I                     717                        145   \n",
       "1  2     2           G                     239                         56   \n",
       "2        3           C                     237                         56   \n",
       "3                                                                           \n",
       "4  3     4           A                     248                         57   \n",
       "\n",
       "                   x     Chain 2                          \\\n",
       "  Surface (Å$^2$)    Chain label Number_InterfacingAtoms   \n",
       "0           32249  ◊           J                     716   \n",
       "1            9172  ◊           H                     242   \n",
       "2            9432  ◊           D                     234   \n",
       "3                                                          \n",
       "4            9124  ◊           B                     227   \n",
       "\n",
       "                                                Interface  \\\n",
       "  Number_InterfacingResidues Surface (Å$^2$) Area (Å$^2$)   \n",
       "0                        145           32361       6681.8   \n",
       "1                         60            8417       2515.2   \n",
       "2                         57            8501       2407.0   \n",
       "3                             **_Average:_**       2461.1   \n",
       "4                         54            7526       2490.9   \n",
       "\n",
       "                                                                    \\\n",
       "  Solvation free energy gain Solvation gain P-value Hydrogen bonds   \n",
       "0                      -88.4                  0.982            362   \n",
       "1                      -43.4                  0.035             17   \n",
       "2                      -44.7                  0.026             17   \n",
       "3                      -44.0                  0.031             17   \n",
       "4                      -42.0                  0.056             14   \n",
       "\n",
       "                                \n",
       "  Salt Bridges Disuflides  CSS  \n",
       "0            0          0  0.0  \n",
       "1           10          0  0.0  \n",
       "2            5          0  0.0  \n",
       "3            8          0  0.0  \n",
       "4            4          0  0.0  "
      ]
     },
     "execution_count": 5,
     "metadata": {},
     "output_type": "execute_result"
    }
   ],
   "source": [
    "dfz = pd.read_pickle(\"6kiz_PISAinterface_summary_pickled_df.pkl\")\n",
    "dfz.head()"
   ]
  },
  {
   "cell_type": "markdown",
   "metadata": {
    "tags": []
   },
   "source": [
    "-----\n",
    "\n",
    "### Benefit of workflow managment software\n",
    "\n",
    "With the simple demo above, the benefit of using workflow management software won't be readily observed. Let's further demonstrate some steps that may be tpyical to better illustrate.  \n",
    "\n",
    "#### Example A. Add additional data.\n",
    "\n",
    "\n",
    "Let's add two more. To that, all you need is to edit `interface_data_2_df_codes` to add the additional PDB codes and kick off the snakemake workflow again.\n",
    "\n",
    "This will append two more to `interface_data_2_df_codes`."
   ]
  },
  {
   "cell_type": "code",
   "execution_count": 6,
   "metadata": {},
   "outputs": [
    {
     "name": "stdout",
     "output_type": "stream",
     "text": [
      "Writing 'a' (str) to file 'interface_data_2_df_codes.txt'.\n"
     ]
    }
   ],
   "source": [
    "a='''6kiw\n",
    "6kiu\n",
    "'''\n",
    "%store a >>interface_data_2_df_codes.txt"
   ]
  },
  {
   "cell_type": "markdown",
   "metadata": {},
   "source": [
    "Verify those are added:"
   ]
  },
  {
   "cell_type": "code",
   "execution_count": 7,
   "metadata": {},
   "outputs": [
    {
     "name": "stdout",
     "output_type": "stream",
     "text": [
      "6kiv\r\n",
      "6kiz\r\n",
      "6kix\r\n",
      "6kiw\r\n",
      "6kiu\r\n"
     ]
    }
   ],
   "source": [
    "cat interface_data_2_df_codes.txt"
   ]
  },
  {
   "cell_type": "markdown",
   "metadata": {},
   "source": [
    "Now the same snakemake command can be used to re-run the workflow."
   ]
  },
  {
   "cell_type": "code",
   "execution_count": 8,
   "metadata": {},
   "outputs": [
    {
     "name": "stdout",
     "output_type": "stream",
     "text": [
      "  % Total    % Received % Xferd  Average Speed   Time    Time     Time  Current\n",
      "                                 Dload  Upload   Total   Spent    Left  Speed\n",
      "100 43262  100 43262    0     0   640k      0 --:--:-- --:--:-- --:--:--  649k\n",
      "\u001b[33mBuilding DAG of jobs...\u001b[0m\n",
      "\u001b[33mUsing shell: /bin/bash\u001b[0m\n",
      "\u001b[33mProvided cores: 1 (use --cores to define parallelism)\u001b[0m\n",
      "\u001b[33mRules claiming more threads will be scaled down.\u001b[0m\n",
      "\u001b[33mJob stats:\n",
      "job                                      count    min threads    max threads\n",
      "-------------------------------------  -------  -------------  -------------\n",
      "all                                          1              1              1\n",
      "make_archive                                 1              1              1\n",
      "run_pisa_interface_list_to_df_for_pdb        2              1              1\n",
      "total                                        4              1              1\n",
      "\u001b[0m\n",
      "\u001b[33mSelect jobs to execute...\u001b[0m\n",
      "\u001b[32m\u001b[0m\n",
      "\u001b[32m[Wed Dec  8 19:28:04 2021]\u001b[0m\n",
      "\u001b[32mrule run_pisa_interface_list_to_df_for_pdb:\n",
      "    input: pisa_interface_list_to_df.py, pdb_6kiw_intf_2_df.txt\n",
      "    output: 6kiw_PISAinterface_summary_pickled_df.pkl\n",
      "    jobid: 2\n",
      "    wildcards: code=6kiw\n",
      "    resources: tmpdir=/tmp\u001b[0m\n",
      "\u001b[32m\u001b[0m\n",
      "\u001b[1;31;47m──────────────────── \u001b[0m\u001b[1;31mInput Preparation\u001b[0m\u001b[1;31;47m ─────────────────────\u001b[0m\n",
      "\u001b[2K\u001b[1;31;47m⠄⠀\u001b[0m Retrieving interface list page from PDBePISA.....\n",
      "\u001b[1A\u001b[2K\u001b[1;31;47mExtracting interface list from the page..\u001b[0m\n",
      "\u001b[1;31;47mExtracted interface list data saved as the file \u001b[0m\n",
      "\u001b[32;47m'6kiw_interface_list.txt'\u001b[0m\n",
      "\u001b[1;31;47m───────────────── \u001b[0m\u001b[1;31mEnd of Input Preparation\u001b[0m\u001b[1;31;47m ─────────────────\u001b[0m\n",
      "\u001b[1;31;47m─────────────────── \u001b[0m\u001b[1;31mDataframe Generation\u001b[0m\u001b[1;31;47m ───────────────────\u001b[0m\n",
      "\u001b[1;31;47mInteractions data being read from 6kiw_interface_list.txt\u001b[0m\u001b[1;33;47m...\u001b[0m\n",
      "\u001b[1;31;47mInteractions data read and converted to a dataframe.\u001b[0m\n",
      "\u001b[1;31;47m─────────────── \u001b[0m\u001b[1;31mEnd of Dataframe Generation\u001b[0m\u001b[1;31;47m ────────────────\u001b[0m\n",
      "\u001b[1;31;47m─────────── \u001b[0m\u001b[1;31mStoring For Later Use & Wrapping-Up\u001b[0m\u001b[1;31;47m ────────────\u001b[0m\n",
      "\u001b[1;31;47mA dataframe of the data has been saved as a file in a manner\u001b[0m\n",
      "\u001b[1;31;47mwhere other Python programs can access it \u001b[0m\u001b[1;31;47m(\u001b[0m\u001b[1;31;47mpickled form\u001b[0m\u001b[1;31;47m)\u001b[0m\u001b[1;31;47m.\u001b[0m\n",
      "\u001b[1;31;47mRESULTING DATAFRAME is stored as ==> \u001b[0m\n",
      "\u001b[32;47m'6kiw_PISAinterface_summary_pickled_df.pkl'\u001b[0m\n",
      "\u001b[1;31;47m─────────────── \u001b[0m\u001b[1;31mEnd of Storing & Wrapping-Up\u001b[0m\u001b[1;31;47m ───────────────\u001b[0m\n",
      "\u001b[32m[Wed Dec  8 19:28:14 2021]\u001b[0m\n",
      "\u001b[32mFinished job 2.\u001b[0m\n",
      "\u001b[32m1 of 4 steps (25%) done\u001b[0m\n",
      "\u001b[33mSelect jobs to execute...\u001b[0m\n",
      "\u001b[32m\u001b[0m\n",
      "\u001b[32m[Wed Dec  8 19:28:14 2021]\u001b[0m\n",
      "\u001b[32mrule run_pisa_interface_list_to_df_for_pdb:\n",
      "    input: pisa_interface_list_to_df.py, pdb_6kiu_intf_2_df.txt\n",
      "    output: 6kiu_PISAinterface_summary_pickled_df.pkl\n",
      "    jobid: 3\n",
      "    wildcards: code=6kiu\n",
      "    resources: tmpdir=/tmp\u001b[0m\n",
      "\u001b[32m\u001b[0m\n",
      "\u001b[1;31;47m──────────────────── \u001b[0m\u001b[1;31mInput Preparation\u001b[0m\u001b[1;31;47m ─────────────────────\u001b[0m\n",
      "\u001b[2K\u001b[1;31;47m⡂⠀\u001b[0m Retrieving interface list page from PDBePISA.....\n",
      "\u001b[1A\u001b[2K\u001b[1;31;47mExtracting interface list from the page..\u001b[0m\n",
      "\u001b[1;31;47mExtracted interface list data saved as the file \u001b[0m\n",
      "\u001b[32;47m'6kiu_interface_list.txt'\u001b[0m\n",
      "\u001b[1;31;47m───────────────── \u001b[0m\u001b[1;31mEnd of Input Preparation\u001b[0m\u001b[1;31;47m ─────────────────\u001b[0m\n",
      "\u001b[1;31;47m─────────────────── \u001b[0m\u001b[1;31mDataframe Generation\u001b[0m\u001b[1;31;47m ───────────────────\u001b[0m\n",
      "\u001b[1;31;47mInteractions data being read from 6kiu_interface_list.txt\u001b[0m\u001b[1;33;47m...\u001b[0m\n",
      "\u001b[1;31;47mInteractions data read and converted to a dataframe.\u001b[0m\n",
      "\u001b[1;31;47m─────────────── \u001b[0m\u001b[1;31mEnd of Dataframe Generation\u001b[0m\u001b[1;31;47m ────────────────\u001b[0m\n",
      "\u001b[1;31;47m─────────── \u001b[0m\u001b[1;31mStoring For Later Use & Wrapping-Up\u001b[0m\u001b[1;31;47m ────────────\u001b[0m\n",
      "\u001b[1;31;47mA dataframe of the data has been saved as a file in a manner\u001b[0m\n",
      "\u001b[1;31;47mwhere other Python programs can access it \u001b[0m\u001b[1;31;47m(\u001b[0m\u001b[1;31;47mpickled form\u001b[0m\u001b[1;31;47m)\u001b[0m\u001b[1;31;47m.\u001b[0m\n",
      "\u001b[1;31;47mRESULTING DATAFRAME is stored as ==> \u001b[0m\n",
      "\u001b[32;47m'6kiu_PISAinterface_summary_pickled_df.pkl'\u001b[0m\n",
      "\u001b[1;31;47m─────────────── \u001b[0m\u001b[1;31mEnd of Storing & Wrapping-Up\u001b[0m\u001b[1;31;47m ───────────────\u001b[0m\n",
      "\u001b[32m[Wed Dec  8 19:28:25 2021]\u001b[0m\n",
      "\u001b[32mFinished job 3.\u001b[0m\n",
      "\u001b[32m2 of 4 steps (50%) done\u001b[0m\n",
      "\u001b[33mSelect jobs to execute...\u001b[0m\n",
      "\u001b[32m\u001b[0m\n",
      "\u001b[32m[Wed Dec  8 19:28:25 2021]\u001b[0m\n",
      "\u001b[32mrule make_archive:\n",
      "    input: 6kiv_PISAinterface_summary_pickled_df.pkl, 6kiz_PISAinterface_summary_pickled_df.pkl, 6kix_PISAinterface_summary_pickled_df.pkl, 6kiw_PISAinterface_summary_pickled_df.pkl, 6kiu_PISAinterface_summary_pickled_df.pkl\n",
      "    output: collection_of_interface_dfsDec0820211928.tar.gz\n",
      "    jobid: 1\n",
      "    resources: tmpdir=/tmp\u001b[0m\n",
      "\u001b[32m\u001b[0m\n",
      "BE SURE TO DOWNLOAD collection_of_interface_dfsDec0820211928.tar.gz.\n",
      "\u001b[32m[Wed Dec  8 19:28:25 2021]\u001b[0m\n",
      "\u001b[32mFinished job 1.\u001b[0m\n",
      "\u001b[32m3 of 4 steps (75%) done\u001b[0m\n",
      "\u001b[33mSelect jobs to execute...\u001b[0m\n",
      "\u001b[32m\u001b[0m\n",
      "\u001b[32m[Wed Dec  8 19:28:25 2021]\u001b[0m\n",
      "\u001b[32mlocalrule all:\n",
      "    input: collection_of_interface_dfsDec0820211928.tar.gz\n",
      "    jobid: 0\n",
      "    resources: tmpdir=/tmp\u001b[0m\n",
      "\u001b[32m\u001b[0m\n",
      "\u001b[32m[Wed Dec  8 19:28:25 2021]\u001b[0m\n",
      "\u001b[32mFinished job 0.\u001b[0m\n",
      "\u001b[32m4 of 4 steps (100%) done\u001b[0m\n",
      "\u001b[33mComplete log: /home/jovyan/notebooks/.snakemake/log/2021-12-08T192803.880963.snakemake.log\u001b[0m\n"
     ]
    }
   ],
   "source": [
    "!snakemake -s pdb_code_2_intf_df_snakefile --cores 1"
   ]
  },
  {
   "cell_type": "markdown",
   "metadata": {},
   "source": [
    "That was easier than writing out the individual code to add in two steps to process the new PDB codes similar to how it was done in the first notebook in this series. Or at least as easy because there was only two added.    \n",
    "As a bonus from snakemake, notice that for the rule `run_pisa_interface_list_to_df_for_pdb`, it only processed the two added. At the scale of this demonstration, this may not seem like much; however, what if in the first round we had already run the process on, say 50 PDB codes, and we just wanted to add another two. You can see where snakemake makes this easy and consistent. There's no special editing of any code to only repeat with the extra two. Just add the additional codes into the input file. Snakemake tracks the input and output for each rule and when called it will make any files the resuling file is dependent on.\n",
    "\n",
    "#### Example B. Update a file upstream in the workflow.\n",
    "\n",
    "To illustrate further how snakemake monitors your workflow and will make updates to just what is necessary when the workflow is triggered, let's 'touch' one of the pickled dataframe files so that it's file timestamp is newer than the final resulting file in the workflow, which is the packaged archive of the pickled dataframe files. (The unix 'touch' command is equivalent to opening a file so it shows as modified in your typical computer's graphical user interface. The 'touch' command has the bonus of being useful to make a file with no contents if it already didn't exist. *Here we are just taking advantage of its ability to show a file as updated without us really editing it.*)\n",
    "\n",
    "So run the next cell to cell to see the timestamp of `6kiv_PISAinterface_summary_pickled_df.pkl` now:"
   ]
  },
  {
   "cell_type": "code",
   "execution_count": 9,
   "metadata": {},
   "outputs": [
    {
     "name": "stdout",
     "output_type": "stream",
     "text": [
      "-rw-r--r-- 1 jovyan jovyan 8148 Dec  8 19:27 6kiv_PISAinterface_summary_pickled_df.pkl\r\n"
     ]
    }
   ],
   "source": [
    "ls -la 6kiv*"
   ]
  },
  {
   "cell_type": "markdown",
   "metadata": {},
   "source": [
    "The timestamp is to the right side of the month and day listing and just in front of the file name `6kiv_PISAinterface_summary_pickled_df.pkl`.\n",
    "\n",
    "Let's build in a pause of a minute to make sure this is noticeable. **You can skip running this cell if you are runing these cells as you read along because there will already be enough pause between then the files where last updated and now.**"
   ]
  },
  {
   "cell_type": "code",
   "execution_count": 10,
   "metadata": {},
   "outputs": [],
   "source": [
    "# So 'Run All' works to show a difference in timestamp; skip if you are running by hand\n",
    "import time\n",
    "time.sleep(61)"
   ]
  },
  {
   "cell_type": "markdown",
   "metadata": {},
   "source": [
    "So run the next cell to update the file `6kiv_PISAinterface_summary_pickled_df.pkl` now:"
   ]
  },
  {
   "cell_type": "code",
   "execution_count": 11,
   "metadata": {},
   "outputs": [],
   "source": [
    "!touch 6kiv_PISAinterface_summary_pickled_df.pkl"
   ]
  },
  {
   "cell_type": "markdown",
   "metadata": {},
   "source": [
    "Let's see what that did by examining the timestamps of the files that begin with '6ki':"
   ]
  },
  {
   "cell_type": "code",
   "execution_count": 12,
   "metadata": {},
   "outputs": [
    {
     "name": "stdout",
     "output_type": "stream",
     "text": [
      "-rw-r--r-- 1 jovyan jovyan 7761 Dec  8 19:28 6kiu_PISAinterface_summary_pickled_df.pkl\r\n",
      "-rw-r--r-- 1 jovyan jovyan 8148 Dec  8 19:29 6kiv_PISAinterface_summary_pickled_df.pkl\r\n",
      "-rw-r--r-- 1 jovyan jovyan 7934 Dec  8 19:28 6kiw_PISAinterface_summary_pickled_df.pkl\r\n",
      "-rw-r--r-- 1 jovyan jovyan 7538 Dec  8 19:28 6kix_PISAinterface_summary_pickled_df.pkl\r\n",
      "-rw-r--r-- 1 jovyan jovyan 6911 Dec  8 19:27 6kiz_PISAinterface_summary_pickled_df.pkl\r\n"
     ]
    }
   ],
   "source": [
    "ls -la 6ki*"
   ]
  },
  {
   "cell_type": "markdown",
   "metadata": {},
   "source": [
    "Note that `6kiv_PISAinterface_summary_pickled_df.pkl` is newer than the other pickled dataframes."
   ]
  },
  {
   "cell_type": "markdown",
   "metadata": {},
   "source": [
    "Now if we trigger the workflow, snakemake will want to update the version of the archive to be newer because it thinks one of the files that resulting file is dependent on has been more recently updated. It wants to have the resulting file, the archive in this case, be the last file produced or otherwise snakemake suspects it doesn't have the updated set of files in it. Here we didn't actually change the file, but let's imagine we did. **It's nice that snakemake is tracking stuff for us and wants to update the archive to have the latest versions of the input files.** Here we only have six files to track; however, snakemake could handle way more than we'd want to be bothered to track ourselves.\n",
    "\n",
    "Since we only updated the file by touching it, we didn't change anything, and so let's not bother actually generating a new archive. However, we can check into what snakemake wants to do, and at the same time illustrate another nice feature of snakemake. Ever wondered what would change if you ran a workflow but didn't actually want to do it because you were 99.9% happy with everything you had and there was a chance something you did recently could potentially trigger a catastrophe by writing over or destroying files you labored to get? Well, **snakemake has 'dry run'** feature. You can call snakemake with the `--dry-run` option, which can also be abbreviated just the flag `-n` **to see what it would do WITHOUT ACTUALLY RUNNING IT**."
   ]
  },
  {
   "cell_type": "code",
   "execution_count": 13,
   "metadata": {},
   "outputs": [
    {
     "name": "stdout",
     "output_type": "stream",
     "text": [
      "  % Total    % Received % Xferd  Average Speed   Time    Time     Time  Current\n",
      "                                 Dload  Upload   Total   Spent    Left  Speed\n",
      "100 43262  100 43262    0     0   521k      0 --:--:-- --:--:-- --:--:--  521k\n",
      "\u001b[33mBuilding DAG of jobs...\u001b[0m\n",
      "\u001b[33mJob stats:\n",
      "job             count    min threads    max threads\n",
      "------------  -------  -------------  -------------\n",
      "all                 1              1              1\n",
      "make_archive        1              1              1\n",
      "total               2              1              1\n",
      "\u001b[0m\n",
      "\u001b[32m\u001b[0m\n",
      "\u001b[32m[Wed Dec  8 19:29:30 2021]\u001b[0m\n",
      "\u001b[32mrule make_archive:\n",
      "    input: 6kiv_PISAinterface_summary_pickled_df.pkl, 6kiz_PISAinterface_summary_pickled_df.pkl, 6kix_PISAinterface_summary_pickled_df.pkl, 6kiw_PISAinterface_summary_pickled_df.pkl, 6kiu_PISAinterface_summary_pickled_df.pkl\n",
      "    output: collection_of_interface_dfsDec0820211929.tar.gz\n",
      "    jobid: 1\n",
      "    resources: tmpdir=/tmp\u001b[0m\n",
      "\u001b[32m\u001b[0m\n",
      "\u001b[32m\u001b[0m\n",
      "\u001b[32m[Wed Dec  8 19:29:30 2021]\u001b[0m\n",
      "\u001b[32mlocalrule all:\n",
      "    input: collection_of_interface_dfsDec0820211929.tar.gz\n",
      "    jobid: 0\n",
      "    resources: tmpdir=/tmp\u001b[0m\n",
      "\u001b[32m\u001b[0m\n",
      "\u001b[33mJob stats:\n",
      "job             count    min threads    max threads\n",
      "------------  -------  -------------  -------------\n",
      "all                 1              1              1\n",
      "make_archive        1              1              1\n",
      "total               2              1              1\n",
      "\u001b[0m\n",
      "\u001b[33mThis was a dry-run (flag -n). The order of jobs does not reflect the order of execution.\u001b[0m\n"
     ]
    }
   ],
   "source": [
    "!snakemake -s pdb_code_2_intf_df_snakefile --cores 1 --dry-run"
   ]
  },
  {
   "cell_type": "markdown",
   "metadata": {},
   "source": [
    "As expected, snakemake has seen one of the files to go into the archive is newer than the last version of the archive and it wants to make it with what it believes is the new file.\n",
    "\n",
    "Because we used the 'dry run' option, though, it didn't actually go ahead and do that.\n",
    "\n",
    "We can see that visually by telling snakemake to build a workflow diagram, a.k.a., directed acyclic graph (DAG), of what it wants to do."
   ]
  },
  {
   "cell_type": "code",
   "execution_count": 14,
   "metadata": {},
   "outputs": [
    {
     "name": "stdout",
     "output_type": "stream",
     "text": [
      "\u001b[33mBuilding DAG of jobs...\u001b[0m\r\n"
     ]
    },
    {
     "data": {
      "image/png": "[encoded data removed]",
      "text/plain": [
       "<IPython.core.display.Image object>"
      ]
     },
     "execution_count": 14,
     "metadata": {},
     "output_type": "execute_result"
    }
   ],
   "source": [
    "!snakemake -s pdb_code_2_intf_df_snakefile --dag | dot -Tpng > dag.png\n",
    "from IPython.display import Image\n",
    "Image(\"dag.png\")"
   ]
  },
  {
   "cell_type": "markdown",
   "metadata": {},
   "source": [
    "(For those wondering about the code in the cell above, the first line is snakemake making the image file making use of a helper program called `dot`, adpated from [here](https://github.com/ctb/2019-snakemake-ucdavis/blob/master/tutorial.md#outputting-the-entire-workflow-diagram). The other two lines are just some Python that can be used to display images in Jupyter cells.)\n",
    "\n",
    "Interesting, it illustrates what snakemake presently wants to do. However, that graph isn't that exciting.  \n",
    "**Let's see what we'd get if we had snakemake start over?** First, we'll tell it to use the clean rule using the following cell:"
   ]
  },
  {
   "cell_type": "code",
   "execution_count": 15,
   "metadata": {},
   "outputs": [
    {
     "name": "stdout",
     "output_type": "stream",
     "text": [
      "\u001b[33mBuilding DAG of jobs...\u001b[0m\r\n",
      "\u001b[33mUsing shell: /bin/bash\u001b[0m\r\n",
      "\u001b[33mProvided cores: 8\u001b[0m\r\n",
      "\u001b[33mRules claiming more threads will be scaled down.\u001b[0m\r\n",
      "\u001b[33mJob stats:\r\n",
      "job      count    min threads    max threads\r\n",
      "-----  -------  -------------  -------------\r\n",
      "clean        1              1              1\r\n",
      "total        1              1              1\r\n",
      "\u001b[0m\r\n",
      "\u001b[33mSelect jobs to execute...\u001b[0m\r\n",
      "\u001b[32m\u001b[0m\r\n",
      "\u001b[32m[Wed Dec  8 19:29:32 2021]\u001b[0m\r\n",
      "\u001b[32mrule clean:\r\n",
      "    jobid: 0\r\n",
      "    resources: tmpdir=/tmp\u001b[0m\r\n",
      "\u001b[32m\u001b[0m\r\n",
      "\u001b[32m[Wed Dec  8 19:29:32 2021]\u001b[0m\r\n",
      "\u001b[32mFinished job 0.\u001b[0m\r\n",
      "\u001b[32m1 of 1 steps (100%) done\u001b[0m\r\n",
      "\u001b[33mComplete log: /home/jovyan/notebooks/.snakemake/log/2021-12-08T192932.424173.snakemake.log\u001b[0m\r\n"
     ]
    }
   ],
   "source": [
    "!snakemake -s pdb_code_2_intf_df_snakefile --cores 8 clean"
   ]
  },
  {
   "cell_type": "markdown",
   "metadata": {},
   "source": [
    "That rule was pointed out earlier as a way to reset things. This is a good example of taking advantage of that. To see the workflow diagram, **you could have also placed the next cell earlier in the notebook before actually running snakemake** so that you have a record of what is to follow. Feel free to use that feature in your own Jupyter notebooks using snakemake. It was left until last here because it is assumed snakemake woukd be unfamiliar to most people just looking to get interface records in a computation useable form.\n",
    "\n",
    "Let's see the workflow diagram now that we have cleaned up to rest things:"
   ]
  },
  {
   "cell_type": "code",
   "execution_count": 16,
   "metadata": {},
   "outputs": [
    {
     "name": "stdout",
     "output_type": "stream",
     "text": [
      "\u001b[33mBuilding DAG of jobs...\u001b[0m\r\n"
     ]
    },
    {
     "data": {
      "image/png": "[encoded data removed]",
      "text/plain": [
       "<IPython.core.display.Image object>"
      ]
     },
     "execution_count": 16,
     "metadata": {},
     "output_type": "execute_result"
    }
   ],
   "source": [
    "!snakemake -s pdb_code_2_intf_df_snakefile --dag | dot -Tpng > dag.png\n",
    "from IPython.display import Image\n",
    "Image(\"dag.png\")"
   ]
  },
  {
   "cell_type": "markdown",
   "metadata": {},
   "source": [
    "**Yes, that is our expanded workflow nicely visualized!**\n",
    "\n",
    "If we instead reset and remade `interface_data_2_df_codes.txt` with just the original three PDB codes, it would only have those **original three** in the workflow digram."
   ]
  },
  {
   "cell_type": "code",
   "execution_count": 17,
   "metadata": {},
   "outputs": [
    {
     "name": "stdout",
     "output_type": "stream",
     "text": [
      "\u001b[33mBuilding DAG of jobs...\u001b[0m\n",
      "\u001b[33mUsing shell: /bin/bash\u001b[0m\n",
      "\u001b[33mProvided cores: 8\u001b[0m\n",
      "\u001b[33mRules claiming more threads will be scaled down.\u001b[0m\n",
      "\u001b[33mJob stats:\n",
      "job      count    min threads    max threads\n",
      "-----  -------  -------------  -------------\n",
      "clean        1              1              1\n",
      "total        1              1              1\n",
      "\u001b[0m\n",
      "\u001b[33mSelect jobs to execute...\u001b[0m\n",
      "\u001b[32m\u001b[0m\n",
      "\u001b[32m[Wed Dec  8 19:29:34 2021]\u001b[0m\n",
      "\u001b[32mrule clean:\n",
      "    jobid: 0\n",
      "    resources: tmpdir=/tmp\u001b[0m\n",
      "\u001b[32m\u001b[0m\n",
      "\u001b[32m[Wed Dec  8 19:29:34 2021]\u001b[0m\n",
      "\u001b[32mFinished job 0.\u001b[0m\n",
      "\u001b[32m1 of 1 steps (100%) done\u001b[0m\n",
      "\u001b[33mComplete log: /home/jovyan/notebooks/.snakemake/log/2021-12-08T192934.753053.snakemake.log\u001b[0m\n",
      "Writing 's' (str) to file 'interface_data_2_df_codes.txt'.\n",
      "\u001b[33mBuilding DAG of jobs...\u001b[0m\n"
     ]
    },
    {
     "data": {
      "image/png": "[encoded data removed]",
      "text/plain": [
       "<IPython.core.display.Image object>"
      ]
     },
     "execution_count": 17,
     "metadata": {},
     "output_type": "execute_result"
    }
   ],
   "source": [
    "!snakemake -s pdb_code_2_intf_df_snakefile --cores 8 clean\n",
    "s=\"6kiv\\n6kiz\\n6kix\"\n",
    "%store s >interface_data_2_df_codes.txt\n",
    "!snakemake -s pdb_code_2_intf_df_snakefile --dag | dot -Tpng > dag.png\n",
    "Image(\"dag.png\")"
   ]
  },
  {
   "cell_type": "markdown",
   "metadata": {},
   "source": [
    "With the ability to print the workflow diagram ahead of actually running things via the use of the dry run option, you could redo the steps we took for 'Example A. Add additional data' to add the other two PDB codes and then do a 'dry run' to see ahead of time that the rule `run_pisa_interface_list_to_df_for_pdb` will only processed the two added. (The reader can do that if they wish.) We originally had to look over the text logs after-the-fact to note this. The workflow diagram combined with the 'dry run' option makes following what will happen much more clear. \n",
    "\n",
    "\n",
    "------\n",
    "\n",
    "Hopefully, the demonstration of a pretty straightforward and short wokflow has given you a sense of how to use Snakemake and an appreciation for how your work can benefit from the use of the workflow management software. There's other options for workflow management software that you make want to explore before going with Snakemake. [Nextflow](https://www.nextflow.io/) for common workflow language, Rabix and CWL airflow are the other popular alternatives for workflow management software for computational biology.  \n",
    "\n",
    "If you wish to see a more detailed list of the features of Snakemake and why it is a good choice for work such as this [here](https://angus.readthedocs.io/en/2019/snakemake_for_automation.html#introduction-to-snakemake) and [here](https://github.com/ctb/2019-snakemake-ucdavis/blob/master/tutorial.md#thinking-about-workflows---a-stronger-argument).  \n",
    "\n",
    "If you are curious to learn about using Snakemake to make your own workflows, I'd suggest Titus Brown's tutorials on this topic, such as [this one](https://angus.readthedocs.io/en/2019/snakemake_for_automation.html) and The Carpentries' [material on Snakemake](https://carpentries-incubator.github.io/workflows-snakemake/). The enviornment in which you are most likely currently viewing this notebook is all set up for working through The Carpentries' [material on Snakemake](https://carpentries-incubator.github.io/workflows-snakemake/). You can retrieve and extract the 'Lesson Data Files' accompanying the Carpentries' [material on Snakemake](https://carpentries-incubator.github.io/workflows-snakemake/) by running the following command in a Jupyter notebook cell:\n",
    "\n",
    "```text\n",
    "!curl -OL https://github.com/carpentries-incubator/workflows-snakemake/raw/gh-pages/files/workflow-engines-lesson.tar.gz\n",
    "!tar xzf workflow-engines-lesson.tar.gz\n",
    "```\n",
    "\n",
    "(Leave off the exclamation point in the front of the two commands if you are looking to run them in a terminal. See [here](https://carpentries-incubator.github.io/workflows-snakemake/setup) for more on that.)\n",
    "\n",
    "Titus Brown's tutorials link to active launchable sessions that run in RStudio, also served via MyBinder.org, that come complete with the necessary software and materials already installed or present."
   ]
  },
  {
   "cell_type": "markdown",
   "metadata": {},
   "source": [
    "----"
   ]
  },
  {
   "cell_type": "markdown",
   "metadata": {},
   "source": [
    "In the next notebook in this series, [Making the multiple reports generated via snakemake clearer by adding protein names](Making%20the%20multiple%20reports%20generated%20via%20snakemake%20clearer%20by%20adding%20protein%20names.ipynb), I work through how to make the reports more human readable by swapping the chain designations with the actual names of the proteins. This is similar to making the report more human readable that was discussed at the bottom of the previous notebook, [Using PDBsum data to highlight changes in protein-protein interactions](Using%20PDBsum%20data%20to%20highlight%20changes%20in%20protein-protein%20interactions.ipynb); however, it will be done to all the notebooks at once based on the file name beginning with `interactions_report_for_` and ending with `.ipynb`.\n",
    "\n",
    "-----\n",
    "\n",
    "Please continue on with the next notebook in this series, [Making the multiple reports generated via snakemake clearer by adding protein names](Making%20the%20multiple%20reports%20generated%20via%20snakemake%20clearer%20by%20adding%20protein%20names.ipynb).\n",
    "\n",
    "Or if you are interested in using PDBsum's interface statistics tables with Python or easily comparing those statistics for two structuress, see [Interface statistics basics & comparing Interface statistics for two structures](Interface%20statistics%20basics%20and%20comparing%20Interface%20statistics%20for%20two%20structures.ipynb).\n",
    "\n",
    "-----"
   ]
  }
 ],
 "metadata": {
  "kernelspec": {
   "display_name": "Python 3 (ipykernel)",
   "language": "python",
   "name": "python3"
  },
  "language_info": {
   "codemirror_mode": {
    "name": "ipython",
    "version": 3
   },
   "file_extension": ".py",
   "mimetype": "text/x-python",
   "name": "python",
   "nbconvert_exporter": "python",
   "pygments_lexer": "ipython3",
   "version": "3.7.12"
  }
 },
 "nbformat": 4,
 "nbformat_minor": 4
}
