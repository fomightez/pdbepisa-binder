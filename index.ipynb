{
 "cells": [
  {
   "cell_type": "markdown",
   "metadata": {},
   "source": [
    "## PDBePISA use in conjunction with Jupyter & Python via MyBinder.org"
   ]
  },
  {
   "cell_type": "markdown",
   "metadata": {},
   "source": [
    "Choose one of the available notebooks to get started. If you are new, start at the top and work down.\n",
    "\n",
    "### Available Notebooks\n",
    "\n",
    "- [Working with PDBePISA interface lists/reports in Jupyter Basics and filtering to nucleic acid chains](notebooks/Working%20with%20PDBePISA%20interfacelists%20in%20Jupyter%20Basics.ipynb)\n",
    "- [Making dataframes dervied from PDBePISA interface lists/reports clearer by adding protein names](notebooks/????.ipynb)\n",
    "- [Making multiple interface-reporting dataframes for several structures using snakemake](notebooks/????.ipynb)\n",
    "- [Making the multiple interface-reporting dataframes generated via snakemake clearer by adding protein names??????](notebooks/????.ipynb)\n",
    "- \n",
    "\n",
    "#### Advanced/Technical:\n",
    "\n",
    "- [(Technical) Single notebook converting a variety of formats of interface lists/reports to test handling by pisa_interface_list_to_df.py](notebooks/tests_of_pisa_interface_list_to_df.py.ipynb)\n",
    "\n",
    "#### Related\n",
    "\n",
    "See my repo [pdbsum-binder](https://github.com/fomightez/pdbsum-binder) that demonstrates scripts from my [pdbsum-utilities sub-repo](https://github.com/fomightez/structurework/tree/master/pdbsum-utilities). Several of those scripts involve data dealing with protein-protein interfaces.\n",
    "\n",
    "-----"
   ]
  }
 ],
 "metadata": {
  "kernelspec": {
   "display_name": "Python 3 (ipykernel)",
   "language": "python",
   "name": "python3"
  },
  "language_info": {
   "codemirror_mode": {
    "name": "ipython",
    "version": 3
   },
   "file_extension": ".py",
   "mimetype": "text/x-python",
   "name": "python",
   "nbconvert_exporter": "python",
   "pygments_lexer": "ipython3",
   "version": "3.7.10"
  }
 },
 "nbformat": 4,
 "nbformat_minor": 4
}
