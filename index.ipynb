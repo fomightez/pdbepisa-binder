{
 "cells": [
  {
   "cell_type": "markdown",
   "metadata": {},
   "source": [
    "## PDBePISA use in conjunction with Jupyter & Python via MyBinder.org"
   ]
  },
  {
   "cell_type": "markdown",
   "metadata": {},
   "source": [
    "Choose one of the available notebooks to get started. If you are new, start at the top and work down.\n",
    "\n",
    "### Available Notebooks\n",
    "\n",
    "<font color='red'> **Hi, if you've come here from StackOverflow or Biostars, I've got a little more work to do to post all the content here, but wanted to share the script ASAP.** </font> Right now the only three notebooks posted are the first two and the one under the 'Technical' section below, called '[Single notebook converting a variety of formats of interface lists/reports to test handling by pisa_interface_list_to_df.py](notebooks/tests_of_pisa_interface_list_to_df.py.ipynb)'. THINK OF THOSE AS A 'QUICK-START' FOR NOW. The latter is definitely that and will remain because it is simply meant to put the script through its paces and see if updates break anything.  The [Working with PDBePISA interface lists/reports in Jupyter Basics and filtering to nucleic acid chains](notebooks/Working%20with%20PDBePISA%20interfacelists%20in%20Jupyter%20Basics.ipynb) just has the basics in place for now. I hope to expand it some.  \n",
    "Click either notebook below to open it and then select from the menubar above `Cell` > `Run All` to how to use it in Python or on the command line. (If you are using a true command line to run the script, replace '%run' in the example commands with `python` or `python3`, depending on your system.)  \n",
    "**ASAP I'll post a notebook demonstrating the use of it with snakemake that uses that script a list of PDB codes to allow you to get the interface report as a Python dataframe (Pandas dataframe specifically) FOR A LOT OF PDB FILES without little effort .** In the meantime please reach out to me. My email is on the left side [here](https://github.com/fomightez). \n",
    "\n",
    "- [Working with PDBePISA interface lists/reports in Jupyter Basics and filtering to nucleic acid chains](notebooks/Working%20with%20PDBePISA%20interfacelists%20in%20Jupyter%20Basics.ipynb)\n",
    "- [Making dataframes dervied from PDBePISA interface lists/reports clearer by adding protein names](notebooks/working_with_dataframes_and_making_clearer.ipynb)\n",
    "- [Further guide to using the dataframes produced by `pisa_interface_list_to_df.py`](notebooks/further_guide_to_working_with_df.ipynb)\n",
    "- TBD: [Making multiple interface-reporting dataframes for several structures using snakemake](notebooks/????.ipynb)\n",
    "- TBD: [Making the multiple interface-reporting dataframes generated via snakemake clearer by adding protein names??????](notebooks/????.ipynb)\n",
    "- \n",
    "\n",
    "#### Advanced/Technical:\n",
    "\n",
    "- [(Technical) Single notebook converting a variety of formats of interface lists/reports to test handling by pisa_interface_list_to_df.py](notebooks/tests_of_pisa_interface_list_to_df.py.ipynb)\n",
    "\n",
    "#### Related\n",
    "\n",
    "See my repo [pdbsum-binder](https://github.com/fomightez/pdbsum-binder) that demonstrates scripts from my [pdbsum-utilities sub-repo](https://github.com/fomightez/structurework/tree/master/pdbsum-utilities). Several of those scripts involve data dealing with protein-protein interfaces.\n",
    "\n",
    "-----"
   ]
  }
 ],
 "metadata": {
  "kernelspec": {
   "display_name": "Python 3 (ipykernel)",
   "language": "python",
   "name": "python3"
  },
  "language_info": {
   "codemirror_mode": {
    "name": "ipython",
    "version": 3
   },
   "file_extension": ".py",
   "mimetype": "text/x-python",
   "name": "python",
   "nbconvert_exporter": "python",
   "pygments_lexer": "ipython3",
   "version": "3.7.10"
  }
 },
 "nbformat": 4,
 "nbformat_minor": 4
}
